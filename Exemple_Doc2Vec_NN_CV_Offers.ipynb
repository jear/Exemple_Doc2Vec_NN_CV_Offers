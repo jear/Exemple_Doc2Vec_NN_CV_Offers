{
 "cells": [
  {
   "cell_type": "markdown",
   "metadata": {
    "colab_type": "text",
    "id": "d1UXyqxR1480"
   },
   "source": [
    "# Importing libraries"
   ]
  },
  {
   "cell_type": "code",
   "execution_count": null,
   "metadata": {},
   "outputs": [],
   "source": [
    "import sys\n",
    "!{sys.executable} -m pip -q install  numpy pandas keras tensorflow-gpu matplotlib gensim nltk sklearn --user"
   ]
  },
  {
   "cell_type": "code",
   "execution_count": null,
   "metadata": {
    "colab": {
     "base_uri": "https://localhost:8080/",
     "height": 128
    },
    "colab_type": "code",
    "id": "h-IQiYpEXq5u",
    "outputId": "ad0f2513-52b1-49c1-f065-ecf989a47f41"
   },
   "outputs": [],
   "source": [
    "import numpy as np\n",
    "import pandas as pd\n",
    "import nltk\n",
    "import string\n",
    "import matplotlib.pyplot as plt\n",
    "import keras\n",
    "\n",
    "from keras.models import Sequential\n",
    "from keras.layers import Dense\n",
    "from gensim.models.doc2vec import Doc2Vec, TaggedDocument\n",
    "from nltk.corpus import brown\n",
    "from nltk.corpus import stopwords\n",
    "from sklearn.decomposition import PCA\n",
    "from sklearn.manifold import TSNE\n",
    "from mpl_toolkits.mplot3d import Axes3D\n",
    "\n",
    "nltk.download('brown')\n",
    "nltk.download('stopwords')"
   ]
  },
  {
   "cell_type": "markdown",
   "metadata": {
    "colab_type": "text",
    "id": "_oFDXAN-18zJ"
   },
   "source": [
    "# Read data"
   ]
  },
  {
   "cell_type": "markdown",
   "metadata": {
    "colab_type": "text",
    "id": "TPuJsNA4x6P4"
   },
   "source": [
    "This is about how we would read our data if files were contained in the folder data :"
   ]
  },
  {
   "cell_type": "code",
   "execution_count": null,
   "metadata": {
    "colab": {},
    "colab_type": "code",
    "id": "GFbWu567ybni"
   },
   "outputs": [],
   "source": [
    "#import os\n",
    "#\n",
    "#path = '/path/to/data'\n",
    "#all_texts = []\n",
    "#\n",
    "#for filename in os.listdir(path):\n",
    "#  f = open(filename, 'r')\n",
    "#  all_texts.append(f.read())"
   ]
  },
  {
   "cell_type": "markdown",
   "metadata": {
    "colab_type": "text",
    "id": "PNz-kFRQzhO5"
   },
   "source": [
    "Then we would work on / analyze elements of the \"all_texts\" Python list."
   ]
  },
  {
   "cell_type": "code",
   "execution_count": null,
   "metadata": {
    "colab": {},
    "colab_type": "code",
    "id": "FFfRchcBZ6R0"
   },
   "outputs": [],
   "source": [
    "stop_words = set(stopwords.words('english'))"
   ]
  },
  {
   "cell_type": "markdown",
   "metadata": {
    "colab_type": "text",
    "id": "32Sw5Wf60UBf"
   },
   "source": [
    "Let's just consider the first two categories of text in the brown corpus. Let's also say that \"ca\" files represent CV, and \"cb\" files represent job offers."
   ]
  },
  {
   "cell_type": "code",
   "execution_count": null,
   "metadata": {
    "colab": {},
    "colab_type": "code",
    "id": "b5-Y3GweEGMi"
   },
   "outputs": [],
   "source": [
    "train_ids = brown.fileids()[0:71].copy()\n",
    "test_ids = ['ca01', 'cb01']\n",
    "for id_ in test_ids:\n",
    "  train_ids.remove(id_)"
   ]
  },
  {
   "cell_type": "code",
   "execution_count": null,
   "metadata": {
    "colab": {},
    "colab_type": "code",
    "id": "Khzj0m6wGXHG"
   },
   "outputs": [],
   "source": [
    "train_texts = [\" \".join(brown.words(fileids=[id_])) for id_ in train_ids]\n",
    "test_texts = [\" \".join(brown.words(fileids=[id_])) for id_ in test_ids]"
   ]
  },
  {
   "cell_type": "code",
   "execution_count": null,
   "metadata": {
    "colab": {},
    "colab_type": "code",
    "id": "N8shcV0O2nVE"
   },
   "outputs": [],
   "source": [
    "for i in range(len(train_ids)):\n",
    "  train_ids[i] = train_ids[i].replace('ca','CV').replace('cb','Job_offer')\n",
    "\n",
    "for i in range(len(test_ids)):\n",
    "  test_ids[i] = test_ids[i].replace('ca','CV').replace('cb','Job_offer')"
   ]
  },
  {
   "cell_type": "markdown",
   "metadata": {
    "colab_type": "text",
    "id": "NCNe00AC8WEF"
   },
   "source": [
    "We aren't really working with CV and offers, but we would handle the problem in the same way."
   ]
  },
  {
   "cell_type": "code",
   "execution_count": null,
   "metadata": {
    "colab": {
     "base_uri": "https://localhost:8080/",
     "height": 74
    },
    "colab_type": "code",
    "id": "Gi0i6MtHJSuO",
    "outputId": "e855b6d2-6281-417e-fad6-6917dc7d521c"
   },
   "outputs": [],
   "source": [
    "test_texts"
   ]
  },
  {
   "cell_type": "markdown",
   "metadata": {
    "colab_type": "text",
    "id": "wNQXPkcB2C3V"
   },
   "source": [
    "# Cleaning data"
   ]
  },
  {
   "cell_type": "code",
   "execution_count": null,
   "metadata": {
    "colab": {},
    "colab_type": "code",
    "id": "M2iBGPT3b-dj"
   },
   "outputs": [],
   "source": [
    "clean_train = [text.lower().translate(str.maketrans('', '', string.punctuation)).split() for text in train_texts]\n",
    "clean_test = [text.lower().translate(str.maketrans('', '', string.punctuation)).split() for text in test_texts]"
   ]
  },
  {
   "cell_type": "markdown",
   "metadata": {
    "colab_type": "text",
    "id": "wEri3o8IPVnd"
   },
   "source": [
    "We can also remove stopwords to make the data cleaner, if we want."
   ]
  },
  {
   "cell_type": "code",
   "execution_count": null,
   "metadata": {
    "colab": {},
    "colab_type": "code",
    "id": "clbKPh1wcWVl"
   },
   "outputs": [],
   "source": [
    "tagged_data = [TaggedDocument(txt, [id_]) for txt, id_ in zip(clean_train, train_ids)]"
   ]
  },
  {
   "cell_type": "markdown",
   "metadata": {
    "colab_type": "text",
    "id": "Od7xTIka2Hl6"
   },
   "source": [
    "# Training Doc2Vec model"
   ]
  },
  {
   "cell_type": "code",
   "execution_count": null,
   "metadata": {
    "colab": {
     "base_uri": "https://localhost:8080/",
     "height": 1000
    },
    "colab_type": "code",
    "id": "_MdHi6aDoZOh",
    "outputId": "a773051a-8275-48d3-f0f8-214e0a084b49"
   },
   "outputs": [],
   "source": [
    "max_epochs = 100\n",
    "vec_size = 30\n",
    "alpha = 0.025\n",
    "\n",
    "model = Doc2Vec(vector_size=vec_size,\n",
    "                alpha=alpha, \n",
    "                min_alpha=0.00025,\n",
    "                min_count=1,\n",
    "                dm =1)\n",
    "  \n",
    "model.build_vocab(tagged_data)\n",
    "\n",
    "for epoch in range(max_epochs):\n",
    "    print('iteration {0}'.format(epoch))\n",
    "    model.train(tagged_data,\n",
    "                total_examples=len(train_ids),\n",
    "                epochs=model.epochs)\n",
    "    # decrease the learning rate\n",
    "    model.alpha -= 0.0002\n",
    "    # fix the learning rate, no decay\n",
    "    model.min_alpha = model.alpha\n",
    "\n",
    "#model.save(\"d2v.model\")\n",
    "#print(\"Model Saved\")"
   ]
  },
  {
   "cell_type": "markdown",
   "metadata": {
    "colab_type": "text",
    "id": "fFz2E_pJ2LGy"
   },
   "source": [
    "# Testing Doc2Vec model"
   ]
  },
  {
   "cell_type": "markdown",
   "metadata": {
    "colab_type": "text",
    "id": "fnUDGG483s38"
   },
   "source": [
    "## Infer vectors for new texts"
   ]
  },
  {
   "cell_type": "code",
   "execution_count": null,
   "metadata": {
    "colab": {
     "base_uri": "https://localhost:8080/",
     "height": 146
    },
    "colab_type": "code",
    "id": "UEFqE3o_ltnk",
    "outputId": "e2750962-11dc-4146-ea51-cee6ce2a6545"
   },
   "outputs": [],
   "source": [
    "CV_test_vector = model.infer_vector(clean_test[0])\n",
    "CV_test_vector"
   ]
  },
  {
   "cell_type": "code",
   "execution_count": null,
   "metadata": {
    "colab": {
     "base_uri": "https://localhost:8080/",
     "height": 146
    },
    "colab_type": "code",
    "id": "ARXuzMTy3ufA",
    "outputId": "e1cc7583-59e8-4d7a-b18a-46d706632c17"
   },
   "outputs": [],
   "source": [
    "offer_test_vector = model.infer_vector(clean_test[1])\n",
    "offer_test_vector"
   ]
  },
  {
   "cell_type": "markdown",
   "metadata": {
    "colab_type": "text",
    "id": "_JyL2BQw4Hb8"
   },
   "source": [
    "## Get list of most similar texts used during training"
   ]
  },
  {
   "cell_type": "code",
   "execution_count": null,
   "metadata": {
    "colab": {
     "base_uri": "https://localhost:8080/",
     "height": 259
    },
    "colab_type": "code",
    "id": "hLTvrYUv52wk",
    "outputId": "21ce1ac3-f4cd-482a-db4f-67e10a6dfe26"
   },
   "outputs": [],
   "source": [
    "model.docvecs.most_similar([CV_test_vector])"
   ]
  },
  {
   "cell_type": "code",
   "execution_count": null,
   "metadata": {
    "colab": {
     "base_uri": "https://localhost:8080/",
     "height": 259
    },
    "colab_type": "code",
    "id": "QVmX8u-R38tt",
    "outputId": "9ef1d31b-142d-482b-a498-39dd2731222b"
   },
   "outputs": [],
   "source": [
    "model.docvecs.most_similar([offer_test_vector])"
   ]
  },
  {
   "cell_type": "markdown",
   "metadata": {
    "colab_type": "text",
    "id": "PfeShlwPNdVS"
   },
   "source": [
    "Results seem good : most similar vectors to CV vector are CV vectors and vice-versa.\n",
    "\n",
    "\n",
    "Then, we can use vectors to build any kind of machine learning model, for example to predict a text's category."
   ]
  },
  {
   "cell_type": "markdown",
   "metadata": {
    "colab_type": "text",
    "id": "Kge3BDdZBUfP"
   },
   "source": [
    "# Neural Network example"
   ]
  },
  {
   "cell_type": "markdown",
   "metadata": {
    "colab_type": "text",
    "id": "PK9JSIGBFke8"
   },
   "source": [
    "Using Doc2Vec vectors to build a model that tries to predict a text's category."
   ]
  },
  {
   "cell_type": "markdown",
   "metadata": {
    "colab_type": "text",
    "id": "vCPbHLMiFhHs"
   },
   "source": [
    "## Building training and test sets"
   ]
  },
  {
   "cell_type": "code",
   "execution_count": null,
   "metadata": {
    "colab": {},
    "colab_type": "code",
    "id": "tky6D48pCls4"
   },
   "outputs": [],
   "source": [
    "vector_list = []\n",
    "cat_list = []\n",
    "for id_ in train_ids:\n",
    "  vector_list.append(list(model.docvecs[id_]))\n",
    "  if \"CV\" in id_:\n",
    "    cat_list.append(\"CV\")\n",
    "  else:\n",
    "    cat_list.append(\"Job_offer\")\n",
    "\n",
    "vector_list = np.array(vector_list)"
   ]
  },
  {
   "cell_type": "code",
   "execution_count": null,
   "metadata": {
    "colab": {
     "base_uri": "https://localhost:8080/",
     "height": 226
    },
    "colab_type": "code",
    "id": "7UrKQ1LTBfRG",
    "outputId": "6d5cc74e-4dd6-4880-b38d-7d1f7b3dbdee"
   },
   "outputs": [],
   "source": [
    "train_df = pd.DataFrame(data=vector_list)\n",
    "train_df[\"category\"] = cat_list\n",
    "train_df.sample(5)"
   ]
  },
  {
   "cell_type": "code",
   "execution_count": null,
   "metadata": {
    "colab": {},
    "colab_type": "code",
    "id": "bgYP9_knDL4i"
   },
   "outputs": [],
   "source": [
    "test_vectors = []\n",
    "test_cats = []\n",
    "for index_id in range(len(test_ids)):\n",
    "  if \"CV\" in test_ids[index_id]:\n",
    "    test_cats.append(\"CV\")\n",
    "  else:\n",
    "    test_cats.append(\"Job_offer\")\n",
    "  test_vectors.append(list(model.infer_vector(clean_test[index_id])))\n",
    "\n",
    "test_vectors = np.array(test_vectors)"
   ]
  },
  {
   "cell_type": "code",
   "execution_count": null,
   "metadata": {
    "colab": {
     "base_uri": "https://localhost:8080/",
     "height": 132
    },
    "colab_type": "code",
    "id": "D3J6jk4DDLMP",
    "outputId": "ed01b318-8e6b-4251-f9c2-458d53a1de5a"
   },
   "outputs": [],
   "source": [
    "test_df = pd.DataFrame(data=test_vectors)\n",
    "test_df[\"category\"] = test_cats\n",
    "test_df"
   ]
  },
  {
   "cell_type": "markdown",
   "metadata": {
    "colab_type": "text",
    "id": "ORHiyMc-R-Gg"
   },
   "source": [
    "Encoding categories."
   ]
  },
  {
   "cell_type": "code",
   "execution_count": null,
   "metadata": {
    "colab": {
     "base_uri": "https://localhost:8080/",
     "height": 383
    },
    "colab_type": "code",
    "id": "qN4nYFfaR8wO",
    "outputId": "cab50ec8-5dfe-4a7a-a445-9dac0cc09377"
   },
   "outputs": [],
   "source": [
    "train_df[\"target\"] = train_df[\"category\"].map({\"CV\":0,\"Job_offer\":1})\n",
    "#train_df = pd.concat([train_df,pd.get_dummies(train_df[\"category\"])], axis=1)\n",
    "\n",
    "train_df.sample(10)"
   ]
  },
  {
   "cell_type": "code",
   "execution_count": null,
   "metadata": {
    "colab": {
     "base_uri": "https://localhost:8080/",
     "height": 132
    },
    "colab_type": "code",
    "id": "GWFLFzZWVy8a",
    "outputId": "8dfd2dfd-84bb-4404-ebcd-18065dcd5113"
   },
   "outputs": [],
   "source": [
    "test_df[\"target\"] = test_df[\"category\"].map({\"CV\":0,\"Job_offer\":1})\n",
    "test_df"
   ]
  },
  {
   "cell_type": "code",
   "execution_count": null,
   "metadata": {
    "colab": {},
    "colab_type": "code",
    "id": "K0UeSPbk6sn4"
   },
   "outputs": [],
   "source": [
    "train_df.drop(columns=[\"category\"], inplace=True)\n",
    "test_df.drop(columns=[\"category\"], inplace=True)"
   ]
  },
  {
   "cell_type": "code",
   "execution_count": null,
   "metadata": {
    "colab": {},
    "colab_type": "code",
    "id": "_boGnV3PTooH"
   },
   "outputs": [],
   "source": [
    "feature_columns = []\n",
    "cat_columns = []\n",
    "for col in train_df.columns:\n",
    "  if type(col) == int:\n",
    "    feature_columns.append(col)\n",
    "  else:\n",
    "    cat_columns.append(col)"
   ]
  },
  {
   "cell_type": "markdown",
   "metadata": {
    "colab_type": "text",
    "id": "RvW4qFptF3ua"
   },
   "source": [
    "## Building Neural Network architecture"
   ]
  },
  {
   "cell_type": "markdown",
   "metadata": {
    "colab_type": "text",
    "id": "jyRQZtS1fg15"
   },
   "source": [
    "Very simple model: 4 fully connected layers, with 30, 20, 20 and 1 neurons respectively.\n",
    "\n",
    "Last layer specifically has 1 neuron because we want to predict 0 if the input vector corresponds to a CV and 1 if it is a job offer. "
   ]
  },
  {
   "cell_type": "code",
   "execution_count": null,
   "metadata": {
    "colab": {
     "base_uri": "https://localhost:8080/",
     "height": 277
    },
    "colab_type": "code",
    "id": "F90RobLqU3XO",
    "outputId": "2aa8dc98-f500-4705-ef9a-021c14d905d7"
   },
   "outputs": [],
   "source": [
    "nn_model = Sequential()\n",
    "nn_model.add(Dense(30, input_dim=vec_size, activation='relu'))\n",
    "nn_model.add(Dense(20, activation='relu'))\n",
    "nn_model.add(Dense(20, activation='relu'))\n",
    "nn_model.add(Dense(1, activation='sigmoid'))\n",
    "\n",
    "nn_model.compile(loss='binary_crossentropy', optimizer='adam', metrics=['accuracy'])"
   ]
  },
  {
   "cell_type": "code",
   "execution_count": null,
   "metadata": {
    "colab": {
     "base_uri": "https://localhost:8080/",
     "height": 312
    },
    "colab_type": "code",
    "id": "0nAMYallbAda",
    "outputId": "c77ffd4b-13a6-4b59-963f-3cd51be1925e"
   },
   "outputs": [],
   "source": [
    "nn_model.summary()"
   ]
  },
  {
   "cell_type": "markdown",
   "metadata": {
    "colab_type": "text",
    "id": "oud9gSv4F89-"
   },
   "source": [
    "## Training Neural Network"
   ]
  },
  {
   "cell_type": "code",
   "execution_count": null,
   "metadata": {
    "colab": {
     "base_uri": "https://localhost:8080/",
     "height": 91
    },
    "colab_type": "code",
    "id": "ayA1fkhlVvp1",
    "outputId": "3a7daf6d-bcdf-41bc-9757-e6bcb49f152e"
   },
   "outputs": [],
   "source": [
    "x = train_df[feature_columns].values\n",
    "y = train_df[cat_columns].values\n",
    "\n",
    "test_x = test_df[feature_columns].values\n",
    "test_y = test_df[cat_columns].values\n",
    "\n",
    "print(\"X shape : \" + str(x.shape))\n",
    "print(\"Y shape : \" + str(y.shape))\n",
    "print(\"Test X shape : \" + str(test_x.shape))\n",
    "print(\"Test Y shape : \" + str(test_y.shape))"
   ]
  },
  {
   "cell_type": "code",
   "execution_count": null,
   "metadata": {
    "colab": {
     "base_uri": "https://localhost:8080/",
     "height": 1000
    },
    "colab_type": "code",
    "id": "1e3alXOeVpyH",
    "outputId": "328455dd-0ca8-42db-fbd5-095ff00a8c7b"
   },
   "outputs": [],
   "source": [
    "nn_model.fit(x, y, batch_size=8, epochs=100, validation_data=[test_x, test_y])"
   ]
  },
  {
   "cell_type": "markdown",
   "metadata": {
    "colab_type": "text",
    "id": "h_DF0fsF4O-t"
   },
   "source": [
    "# T-SNE / PCA visualisations"
   ]
  },
  {
   "cell_type": "markdown",
   "metadata": {
    "colab_type": "text",
    "id": "qf2km4hlK_4B"
   },
   "source": [
    "## 2D PCA"
   ]
  },
  {
   "cell_type": "code",
   "execution_count": null,
   "metadata": {
    "colab": {},
    "colab_type": "code",
    "id": "xTBVtfLqvw69"
   },
   "outputs": [],
   "source": [
    "pca = PCA(n_components=2)\n",
    "principalComponents = pca.fit_transform(vector_list)"
   ]
  },
  {
   "cell_type": "code",
   "execution_count": null,
   "metadata": {
    "colab": {},
    "colab_type": "code",
    "id": "ZAlCuvCcxoWK"
   },
   "outputs": [],
   "source": [
    "principalDf = pd.DataFrame()\n",
    "\n",
    "principalDf[\"file_id\"] = train_ids\n",
    "principalDf[\"category\"] = cat_list\n",
    "principalDf[\"Principal Component 1\"] = principalComponents[:,0]\n",
    "principalDf[\"Principal Component 2\"] = principalComponents[:,1]"
   ]
  },
  {
   "cell_type": "code",
   "execution_count": null,
   "metadata": {
    "colab": {
     "base_uri": "https://localhost:8080/",
     "height": 206
    },
    "colab_type": "code",
    "id": "OGbyMAWDyuDg",
    "outputId": "4f2b41e2-3a06-4459-f25a-bada791697f1"
   },
   "outputs": [],
   "source": [
    "principalDf.head()"
   ]
  },
  {
   "cell_type": "code",
   "execution_count": null,
   "metadata": {
    "colab": {
     "base_uri": "https://localhost:8080/",
     "height": 523
    },
    "colab_type": "code",
    "id": "g91lI9omy1ey",
    "outputId": "40179f29-0e65-4753-eae0-a27980553aab"
   },
   "outputs": [],
   "source": [
    "fig = plt.figure(figsize = (8,8))\n",
    "ax = fig.add_subplot(1,1,1) \n",
    "ax.set_xlabel('Principal Component 1', fontsize = 15)\n",
    "ax.set_ylabel('Principal Component 2', fontsize = 15)\n",
    "ax.set_title('2 component PCA', fontsize = 20)\n",
    "\n",
    "targets = principalDf[\"category\"].unique()\n",
    "colors = ['r', 'b']\n",
    "\n",
    "for target, color in zip(targets,colors):\n",
    "    indicesToKeep = principalDf['category'] == target\n",
    "    ax.scatter(principalDf.loc[indicesToKeep, 'Principal Component 1']\n",
    "               , principalDf.loc[indicesToKeep, 'Principal Component 2']\n",
    "               , c = color\n",
    "               , s = 50)\n",
    "ax.legend(targets)\n",
    "ax.grid()"
   ]
  },
  {
   "cell_type": "markdown",
   "metadata": {
    "colab_type": "text",
    "id": "PUqLDLYCLV2x"
   },
   "source": [
    "## 3D PCA"
   ]
  },
  {
   "cell_type": "code",
   "execution_count": null,
   "metadata": {
    "colab": {},
    "colab_type": "code",
    "id": "Jmxfxb__1oLp"
   },
   "outputs": [],
   "source": [
    "pca3d = PCA(n_components=3)\n",
    "\n",
    "PC3d = pca3d.fit_transform(vector_list)\n",
    "\n",
    "principalDf3d = pd.DataFrame()\n",
    "\n",
    "principalDf3d[\"file_id\"] = train_ids\n",
    "principalDf3d[\"category\"] = cat_list\n",
    "principalDf3d[\"Principal Component 1\"] = PC3d[:,0]\n",
    "principalDf3d[\"Principal Component 2\"] = PC3d[:,1]\n",
    "principalDf3d[\"Principal Component 3\"] = PC3d[:,2]"
   ]
  },
  {
   "cell_type": "code",
   "execution_count": null,
   "metadata": {
    "colab": {
     "base_uri": "https://localhost:8080/",
     "height": 466
    },
    "colab_type": "code",
    "id": "SltWY68s2gHw",
    "outputId": "f51ea05a-aeb3-4d5e-8967-58374f77df87"
   },
   "outputs": [],
   "source": [
    "fig = plt.figure(figsize = (8,8))\n",
    "ax = fig.add_subplot(1,1,1,  projection='3d') \n",
    "ax.set_xlabel('Principal Component 1', fontsize = 15)\n",
    "ax.set_ylabel('Principal Component 2', fontsize = 15)\n",
    "ax.set_zlabel('Principal Component 3', fontsize = 15)\n",
    "ax.set_title('3 component PCA', fontsize = 20)\n",
    "\n",
    "targets = principalDf3d[\"category\"].unique()\n",
    "colors = ['r', 'b']\n",
    "\n",
    "for target, color in zip(targets,colors):\n",
    "    indicesToKeep = principalDf3d['category'] == target\n",
    "    ax.scatter(principalDf3d.loc[indicesToKeep, 'Principal Component 1']\n",
    "               , principalDf3d.loc[indicesToKeep, 'Principal Component 2']\n",
    "               , principalDf3d.loc[indicesToKeep, 'Principal Component 3']\n",
    "               , c = color\n",
    "               , s = 50)\n",
    "ax.legend(targets)\n",
    "ax.grid()"
   ]
  },
  {
   "cell_type": "markdown",
   "metadata": {
    "colab_type": "text",
    "id": "15Ajn1FaLYvS"
   },
   "source": [
    "## 2D T-SNE"
   ]
  },
  {
   "cell_type": "code",
   "execution_count": null,
   "metadata": {
    "colab": {},
    "colab_type": "code",
    "id": "MaAvD-9W22_C"
   },
   "outputs": [],
   "source": [
    "tsne = TSNE(n_components=2)\n",
    "\n",
    "tsne_values = tsne.fit_transform(vector_list)\n",
    "\n",
    "TSNEdf = pd.DataFrame()\n",
    "\n",
    "TSNEdf[\"file_id\"] = train_ids\n",
    "TSNEdf[\"category\"] = cat_list\n",
    "TSNEdf[\"TSNE Component 1\"] = tsne_values[:,0]\n",
    "TSNEdf[\"TSNE Component 2\"] = tsne_values[:,1]"
   ]
  },
  {
   "cell_type": "code",
   "execution_count": null,
   "metadata": {
    "colab": {
     "base_uri": "https://localhost:8080/",
     "height": 523
    },
    "colab_type": "code",
    "id": "M_6__V5UMiPj",
    "outputId": "957bbab3-28d3-4e35-bb5e-ce719c0b1827"
   },
   "outputs": [],
   "source": [
    "fig = plt.figure(figsize = (8,8))\n",
    "ax = fig.add_subplot(1,1,1) \n",
    "ax.set_xlabel('TSNE Component 1', fontsize = 15)\n",
    "ax.set_ylabel('TSNE Component 2', fontsize = 15)\n",
    "ax.set_title('2 component TSNE', fontsize = 20)\n",
    "\n",
    "targets = principalDf[\"category\"].unique()\n",
    "colors = ['r', 'b']\n",
    "\n",
    "for target, color in zip(targets,colors):\n",
    "    indicesToKeep = TSNEdf['category'] == target\n",
    "    ax.scatter(TSNEdf.loc[indicesToKeep, 'TSNE Component 1']\n",
    "               , TSNEdf.loc[indicesToKeep, 'TSNE Component 2']\n",
    "               , c = color\n",
    "               , s = 50)\n",
    "    \n",
    "ax.legend(targets)\n",
    "ax.grid()"
   ]
  },
  {
   "cell_type": "markdown",
   "metadata": {
    "colab_type": "text",
    "id": "zN0vhNwVM4Po"
   },
   "source": [
    "## 3D TSNE"
   ]
  },
  {
   "cell_type": "code",
   "execution_count": null,
   "metadata": {
    "colab": {},
    "colab_type": "code",
    "id": "E1nhldbmMuJQ"
   },
   "outputs": [],
   "source": [
    "tsne3d = TSNE(n_components=3)\n",
    "\n",
    "tsne_values3d = tsne3d.fit_transform(vector_list)\n",
    "\n",
    "TSNEdf3d = pd.DataFrame()\n",
    "\n",
    "TSNEdf3d[\"file_id\"] = train_ids\n",
    "TSNEdf3d[\"category\"] = cat_list\n",
    "TSNEdf3d[\"TSNE Component 1\"] = tsne_values3d[:,0]\n",
    "TSNEdf3d[\"TSNE Component 2\"] = tsne_values3d[:,1]\n",
    "TSNEdf3d[\"TSNE Component 3\"] = tsne_values3d[:,2]"
   ]
  },
  {
   "cell_type": "code",
   "execution_count": null,
   "metadata": {
    "colab": {
     "base_uri": "https://localhost:8080/",
     "height": 466
    },
    "colab_type": "code",
    "id": "3FdHBgxVNoxt",
    "outputId": "6a733926-2d28-406e-9c64-c221c226f71b"
   },
   "outputs": [],
   "source": [
    "fig = plt.figure(figsize = (8,8))\n",
    "ax = fig.add_subplot(1,1,1,  projection='3d') \n",
    "ax.set_xlabel('TSNE Component 1', fontsize = 15)\n",
    "ax.set_ylabel('TSNE Component 2', fontsize = 15)\n",
    "ax.set_zlabel('TSNE Component 3', fontsize = 15)\n",
    "ax.set_title('3 component TSNE', fontsize = 20)\n",
    "\n",
    "targets = principalDf3d[\"category\"].unique()\n",
    "colors = ['r', 'b']\n",
    "\n",
    "DISPLAY_NB = 5\n",
    "targets = targets[0:DISPLAY_NB]\n",
    "colors = colors[0:DISPLAY_NB]\n",
    "\n",
    "for target, color in zip(targets,colors):\n",
    "    indicesToKeep = TSNEdf3d['category'] == target\n",
    "    ax.scatter(TSNEdf3d.loc[indicesToKeep, 'TSNE Component 1']\n",
    "               , TSNEdf3d.loc[indicesToKeep, 'TSNE Component 2']\n",
    "               , TSNEdf3d.loc[indicesToKeep, 'TSNE Component 3']\n",
    "               , c = color\n",
    "               , s = 50)\n",
    "ax.legend(targets)\n",
    "ax.grid()"
   ]
  },
  {
   "cell_type": "code",
   "execution_count": null,
   "metadata": {
    "colab": {},
    "colab_type": "code",
    "id": "AagEV1qiOMlH"
   },
   "outputs": [],
   "source": []
  },
  {
   "cell_type": "code",
   "execution_count": null,
   "metadata": {},
   "outputs": [],
   "source": []
  },
  {
   "cell_type": "code",
   "execution_count": null,
   "metadata": {},
   "outputs": [],
   "source": []
  }
 ],
 "metadata": {
  "colab": {
   "collapsed_sections": [],
   "name": "Exemple_Doc2Vec_NN_CV_Offers.ipynb",
   "provenance": []
  },
  "kernelspec": {
   "display_name": "Python 3",
   "language": "python",
   "name": "python3"
  },
  "language_info": {
   "codemirror_mode": {
    "name": "ipython",
    "version": 3
   },
   "file_extension": ".py",
   "mimetype": "text/x-python",
   "name": "python",
   "nbconvert_exporter": "python",
   "pygments_lexer": "ipython3",
   "version": "3.6.8"
  }
 },
 "nbformat": 4,
 "nbformat_minor": 4
}
