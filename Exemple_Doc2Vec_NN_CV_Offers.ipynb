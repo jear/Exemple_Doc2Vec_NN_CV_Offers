{
 "cells": [
  {
   "cell_type": "markdown",
   "metadata": {
    "colab_type": "text",
    "id": "d1UXyqxR1480"
   },
   "source": [
    "# Importing libraries"
   ]
  },
  {
   "cell_type": "code",
   "execution_count": 5,
   "metadata": {},
   "outputs": [],
   "source": [
    "import sys\n",
    "!{sys.executable} -m pip -q install  numpy pandas keras tensorflow matplotlib gensim nltk sklearn"
   ]
  },
  {
   "cell_type": "code",
   "execution_count": 6,
   "metadata": {
    "colab": {
     "base_uri": "https://localhost:8080/",
     "height": 128
    },
    "colab_type": "code",
    "id": "h-IQiYpEXq5u",
    "outputId": "ad0f2513-52b1-49c1-f065-ecf989a47f41"
   },
   "outputs": [
    {
     "name": "stderr",
     "output_type": "stream",
     "text": [
      "Using TensorFlow backend.\n",
      "/Users/fberque/anaconda3/envs/jupyterlab-ext/lib/python3.7/site-packages/tensorflow/python/framework/dtypes.py:516: FutureWarning: Passing (type, 1) or '1type' as a synonym of type is deprecated; in a future version of numpy, it will be understood as (type, (1,)) / '(1,)type'.\n",
      "  _np_qint8 = np.dtype([(\"qint8\", np.int8, 1)])\n",
      "/Users/fberque/anaconda3/envs/jupyterlab-ext/lib/python3.7/site-packages/tensorflow/python/framework/dtypes.py:517: FutureWarning: Passing (type, 1) or '1type' as a synonym of type is deprecated; in a future version of numpy, it will be understood as (type, (1,)) / '(1,)type'.\n",
      "  _np_quint8 = np.dtype([(\"quint8\", np.uint8, 1)])\n",
      "/Users/fberque/anaconda3/envs/jupyterlab-ext/lib/python3.7/site-packages/tensorflow/python/framework/dtypes.py:518: FutureWarning: Passing (type, 1) or '1type' as a synonym of type is deprecated; in a future version of numpy, it will be understood as (type, (1,)) / '(1,)type'.\n",
      "  _np_qint16 = np.dtype([(\"qint16\", np.int16, 1)])\n",
      "/Users/fberque/anaconda3/envs/jupyterlab-ext/lib/python3.7/site-packages/tensorflow/python/framework/dtypes.py:519: FutureWarning: Passing (type, 1) or '1type' as a synonym of type is deprecated; in a future version of numpy, it will be understood as (type, (1,)) / '(1,)type'.\n",
      "  _np_quint16 = np.dtype([(\"quint16\", np.uint16, 1)])\n",
      "/Users/fberque/anaconda3/envs/jupyterlab-ext/lib/python3.7/site-packages/tensorflow/python/framework/dtypes.py:520: FutureWarning: Passing (type, 1) or '1type' as a synonym of type is deprecated; in a future version of numpy, it will be understood as (type, (1,)) / '(1,)type'.\n",
      "  _np_qint32 = np.dtype([(\"qint32\", np.int32, 1)])\n",
      "/Users/fberque/anaconda3/envs/jupyterlab-ext/lib/python3.7/site-packages/tensorflow/python/framework/dtypes.py:525: FutureWarning: Passing (type, 1) or '1type' as a synonym of type is deprecated; in a future version of numpy, it will be understood as (type, (1,)) / '(1,)type'.\n",
      "  np_resource = np.dtype([(\"resource\", np.ubyte, 1)])\n",
      "/Users/fberque/anaconda3/envs/jupyterlab-ext/lib/python3.7/site-packages/tensorboard/compat/tensorflow_stub/dtypes.py:541: FutureWarning: Passing (type, 1) or '1type' as a synonym of type is deprecated; in a future version of numpy, it will be understood as (type, (1,)) / '(1,)type'.\n",
      "  _np_qint8 = np.dtype([(\"qint8\", np.int8, 1)])\n",
      "/Users/fberque/anaconda3/envs/jupyterlab-ext/lib/python3.7/site-packages/tensorboard/compat/tensorflow_stub/dtypes.py:542: FutureWarning: Passing (type, 1) or '1type' as a synonym of type is deprecated; in a future version of numpy, it will be understood as (type, (1,)) / '(1,)type'.\n",
      "  _np_quint8 = np.dtype([(\"quint8\", np.uint8, 1)])\n",
      "/Users/fberque/anaconda3/envs/jupyterlab-ext/lib/python3.7/site-packages/tensorboard/compat/tensorflow_stub/dtypes.py:543: FutureWarning: Passing (type, 1) or '1type' as a synonym of type is deprecated; in a future version of numpy, it will be understood as (type, (1,)) / '(1,)type'.\n",
      "  _np_qint16 = np.dtype([(\"qint16\", np.int16, 1)])\n",
      "/Users/fberque/anaconda3/envs/jupyterlab-ext/lib/python3.7/site-packages/tensorboard/compat/tensorflow_stub/dtypes.py:544: FutureWarning: Passing (type, 1) or '1type' as a synonym of type is deprecated; in a future version of numpy, it will be understood as (type, (1,)) / '(1,)type'.\n",
      "  _np_quint16 = np.dtype([(\"quint16\", np.uint16, 1)])\n",
      "/Users/fberque/anaconda3/envs/jupyterlab-ext/lib/python3.7/site-packages/tensorboard/compat/tensorflow_stub/dtypes.py:545: FutureWarning: Passing (type, 1) or '1type' as a synonym of type is deprecated; in a future version of numpy, it will be understood as (type, (1,)) / '(1,)type'.\n",
      "  _np_qint32 = np.dtype([(\"qint32\", np.int32, 1)])\n",
      "/Users/fberque/anaconda3/envs/jupyterlab-ext/lib/python3.7/site-packages/tensorboard/compat/tensorflow_stub/dtypes.py:550: FutureWarning: Passing (type, 1) or '1type' as a synonym of type is deprecated; in a future version of numpy, it will be understood as (type, (1,)) / '(1,)type'.\n",
      "  np_resource = np.dtype([(\"resource\", np.ubyte, 1)])\n",
      "[nltk_data] Downloading package brown to /Users/fberque/nltk_data...\n",
      "[nltk_data]   Package brown is already up-to-date!\n",
      "[nltk_data] Downloading package stopwords to\n",
      "[nltk_data]     /Users/fberque/nltk_data...\n",
      "[nltk_data]   Package stopwords is already up-to-date!\n"
     ]
    },
    {
     "data": {
      "text/plain": [
       "True"
      ]
     },
     "execution_count": 6,
     "metadata": {},
     "output_type": "execute_result"
    }
   ],
   "source": [
    "import numpy as np\n",
    "import pandas as pd\n",
    "import nltk\n",
    "import string\n",
    "import matplotlib.pyplot as plt\n",
    "import keras\n",
    "\n",
    "from keras.models import Sequential\n",
    "from keras.layers import Dense\n",
    "from gensim.models.doc2vec import Doc2Vec, TaggedDocument\n",
    "from nltk.corpus import brown\n",
    "from nltk.corpus import stopwords\n",
    "from sklearn.decomposition import PCA\n",
    "from sklearn.manifold import TSNE\n",
    "from mpl_toolkits.mplot3d import Axes3D\n",
    "\n",
    "nltk.download('brown')\n",
    "nltk.download('stopwords')"
   ]
  },
  {
   "cell_type": "markdown",
   "metadata": {
    "colab_type": "text",
    "id": "_oFDXAN-18zJ"
   },
   "source": [
    "# Read data"
   ]
  },
  {
   "cell_type": "markdown",
   "metadata": {
    "colab_type": "text",
    "id": "TPuJsNA4x6P4"
   },
   "source": [
    "This is about how we would read our data if files were contained in the folder data :"
   ]
  },
  {
   "cell_type": "code",
   "execution_count": 7,
   "metadata": {
    "colab": {},
    "colab_type": "code",
    "id": "GFbWu567ybni"
   },
   "outputs": [],
   "source": [
    "#import os\n",
    "#\n",
    "#path = '/path/to/data'\n",
    "#all_texts = []\n",
    "#\n",
    "#for filename in os.listdir(path):\n",
    "#  f = open(filename, 'r')\n",
    "#  all_texts.append(f.read())"
   ]
  },
  {
   "cell_type": "markdown",
   "metadata": {
    "colab_type": "text",
    "id": "PNz-kFRQzhO5"
   },
   "source": [
    "Then we would work on / analyze elements of the \"all_texts\" Python list."
   ]
  },
  {
   "cell_type": "code",
   "execution_count": 8,
   "metadata": {
    "colab": {},
    "colab_type": "code",
    "id": "FFfRchcBZ6R0"
   },
   "outputs": [],
   "source": [
    "stop_words = set(stopwords.words('english'))"
   ]
  },
  {
   "cell_type": "markdown",
   "metadata": {
    "colab_type": "text",
    "id": "32Sw5Wf60UBf"
   },
   "source": [
    "Let's just consider the first two categories of text in the brown corpus. Let's also say that \"ca\" files represent CV, and \"cb\" files represent job offers."
   ]
  },
  {
   "cell_type": "code",
   "execution_count": 9,
   "metadata": {
    "colab": {},
    "colab_type": "code",
    "id": "b5-Y3GweEGMi"
   },
   "outputs": [],
   "source": [
    "train_ids = brown.fileids()[0:71].copy()\n",
    "test_ids = ['ca01', 'cb01']\n",
    "for id_ in test_ids:\n",
    "  train_ids.remove(id_)"
   ]
  },
  {
   "cell_type": "code",
   "execution_count": 10,
   "metadata": {
    "colab": {},
    "colab_type": "code",
    "id": "Khzj0m6wGXHG"
   },
   "outputs": [],
   "source": [
    "train_texts = [\" \".join(brown.words(fileids=[id_])) for id_ in train_ids]\n",
    "test_texts = [\" \".join(brown.words(fileids=[id_])) for id_ in test_ids]"
   ]
  },
  {
   "cell_type": "code",
   "execution_count": 11,
   "metadata": {
    "colab": {},
    "colab_type": "code",
    "id": "N8shcV0O2nVE"
   },
   "outputs": [],
   "source": [
    "for i in range(len(train_ids)):\n",
    "  train_ids[i] = train_ids[i].replace('ca','CV').replace('cb','Job_offer')\n",
    "\n",
    "for i in range(len(test_ids)):\n",
    "  test_ids[i] = test_ids[i].replace('ca','CV').replace('cb','Job_offer')"
   ]
  },
  {
   "cell_type": "markdown",
   "metadata": {
    "colab_type": "text",
    "id": "NCNe00AC8WEF"
   },
   "source": [
    "We aren't really working with CV and offers, but we would handle the problem in the same way."
   ]
  },
  {
   "cell_type": "code",
   "execution_count": 12,
   "metadata": {
    "colab": {
     "base_uri": "https://localhost:8080/",
     "height": 74
    },
    "colab_type": "code",
    "id": "Gi0i6MtHJSuO",
    "outputId": "e855b6d2-6281-417e-fad6-6917dc7d521c"
   },
   "outputs": [
    {
     "data": {
      "text/plain": [
       "[\"The Fulton County Grand Jury said Friday an investigation of Atlanta's recent primary election produced `` no evidence '' that any irregularities took place . The jury further said in term-end presentments that the City Executive Committee , which had over-all charge of the election , `` deserves the praise and thanks of the City of Atlanta '' for the manner in which the election was conducted . The September-October term jury had been charged by Fulton Superior Court Judge Durwood Pye to investigate reports of possible `` irregularities '' in the hard-fought primary which was won by Mayor-nominate Ivan Allen Jr. . `` Only a relative handful of such reports was received '' , the jury said , `` considering the widespread interest in the election , the number of voters and the size of this city '' . The jury said it did find that many of Georgia's registration and election laws `` are outmoded or inadequate and often ambiguous '' . It recommended that Fulton legislators act `` to have these laws studied and revised to the end of modernizing and improving them '' . The grand jury commented on a number of other topics , among them the Atlanta and Fulton County purchasing departments which it said `` are well operated and follow generally accepted practices which inure to the best interest of both governments '' . Merger proposed However , the jury said it believes `` these two offices should be combined to achieve greater efficiency and reduce the cost of administration '' . The City Purchasing Department , the jury said , `` is lacking in experienced clerical personnel as a result of city personnel policies '' . It urged that the city `` take steps to remedy '' this problem . Implementation of Georgia's automobile title law was also recommended by the outgoing jury . It urged that the next Legislature `` provide enabling funds and re-set the effective date so that an orderly implementation of the law may be effected '' . The grand jury took a swipe at the State Welfare Department's handling of federal funds granted for child welfare services in foster homes . `` This is one of the major items in the Fulton County general assistance program '' , the jury said , but the State Welfare Department `` has seen fit to distribute these funds through the welfare departments of all the counties in the state with the exception of Fulton County , which receives none of this money . The jurors said they realize `` a proportionate distribution of these funds might disable this program in our less populous counties '' . Nevertheless , `` we feel that in the future Fulton County should receive some portion of these available funds '' , the jurors said . `` Failure to do this will continue to place a disproportionate burden '' on Fulton taxpayers . The jury also commented on the Fulton ordinary's court which has been under fire for its practices in the appointment of appraisers , guardians and administrators and the awarding of fees and compensation . Wards protected The jury said it found the court `` has incorporated into its operating procedures the recommendations '' of two previous grand juries , the Atlanta Bar Association and an interim citizens committee . `` These actions should serve to protect in fact and in effect the court's wards from undue costs and its appointed and elected servants from unmeritorious criticisms '' , the jury said . Regarding Atlanta's new multi-million-dollar airport , the jury recommended `` that when the new management takes charge Jan. 1 the airport be operated in a manner that will eliminate political influences '' . The jury did not elaborate , but it added that `` there should be periodic surveillance of the pricing practices of the concessionaires for the purpose of keeping the prices reasonable '' . Ask jail deputies On other matters , the jury recommended that : ( 1 ) Four additional deputies be employed at the Fulton County Jail and `` a doctor , medical intern or extern be employed for night and weekend duty at the jail '' . ( 2 ) Fulton legislators `` work with city officials to pass enabling legislation that will permit the establishment of a fair and equitable '' pension plan for city employes . The jury praised the administration and operation of the Atlanta Police Department , the Fulton Tax Commissioner's Office , the Bellwood and Alpharetta prison farms , Grady Hospital and the Fulton Health Department . Mayor William B. Hartsfield filed suit for divorce from his wife , Pearl Williams Hartsfield , in Fulton Superior Court Friday . His petition charged mental cruelty . The couple was married Aug. 2 , 1913 . They have a son , William Berry Jr. , and a daughter , Mrs. J. M. Cheshire of Griffin . Attorneys for the mayor said that an amicable property settlement has been agreed upon . The petition listed the mayor's occupation as `` attorney '' and his age as 71 . It listed his wife's age as 74 and place of birth as Opelika , Ala. . The petition said that the couple has not lived together as man and wife for more than a year . The Hartsfield home is at 637 E. Pelham Rd. Aj . Henry L. Bowden was listed on the petition as the mayor's attorney . Hartsfield has been mayor of Atlanta , with exception of one brief interlude , since 1937 . His political career goes back to his election to city council in 1923 . The mayor's present term of office expires Jan. 1 . He will be succeeded by Ivan Allen Jr. , who became a candidate in the Sept. 13 primary after Mayor Hartsfield announced that he would not run for reelection . Georgia Republicans are getting strong encouragement to enter a candidate in the 1962 governor's race , a top official said Wednesday . Robert Snodgrass , state GOP chairman , said a meeting held Tuesday night in Blue Ridge brought enthusiastic responses from the audience . State Party Chairman James W. Dorsey added that enthusiasm was picking up for a state rally to be held Sept. 8 in Savannah at which newly elected Texas Sen. John Tower will be the featured speaker . In the Blue Ridge meeting , the audience was warned that entering a candidate for governor would force it to take petitions out into voting precincts to obtain the signatures of registered voters . Despite the warning , there was a unanimous vote to enter a candidate , according to Republicans who attended . When the crowd was asked whether it wanted to wait one more term to make the race , it voted no -- and there were no dissents . The largest hurdle the Republicans would have to face is a state law which says that before making a first race , one of two alternative courses must be taken : 1 Five per cent of the voters in each county must sign petitions requesting that the Republicans be allowed to place names of candidates on the general election ballot , or 2 The Republicans must hold a primary under the county unit system -- a system which the party opposes in its platform . Sam Caldwell , State Highway Department public relations director , resigned Tuesday to work for Lt. Gov. Garland Byrd's campaign . Caldwell's resignation had been expected for some time . He will be succeeded by Rob Ledford of Gainesville , who has been an assistant more than three years . When the gubernatorial campaign starts , Caldwell is expected to become a campaign coordinator for Byrd . The Georgia Legislature will wind up its 1961 session Monday and head for home -- where some of the highway bond money it approved will follow shortly . Before adjournment Monday afternoon , the Senate is expected to approve a study of the number of legislators allotted to rural and urban areas to determine what adjustments should be made . Gov. Vandiver is expected to make the traditional visit to both chambers as they work toward adjournment . Vandiver likely will mention the $100 million highway bond issue approved earlier in the session as his first priority item . Construction bonds Meanwhile , it was learned the State Highway Department is very near being ready to issue the first $30 million worth of highway reconstruction bonds . The bond issue will go to the state courts for a friendly test suit to test the validity of the act , and then the sales will begin and contracts let for repair work on some of Georgia's most heavily traveled highways . A Highway Department source said there also is a plan there to issue some $3 million to $4 million worth of Rural Roads Authority bonds for rural road construction work . A revolving fund The department apparently intends to make the Rural Roads Authority a revolving fund under which new bonds would be issued every time a portion of the old ones are paid off by tax authorities . Vandiver opened his race for governor in 1958 with a battle in the Legislature against the issuance of $50 million worth of additional rural roads bonds proposed by then Gov. Marvin Griffin . The Highway Department source told The Constitution , however , that Vandiver has not been consulted yet about the plans to issue the new rural roads bonds . Schley County Rep. B. D. Pelham will offer a resolution Monday in the House to rescind the body's action of Friday in voting itself a $10 per day increase in expense allowances . Pelham said Sunday night there was research being done on whether the `` quickie '' vote on the increase can be repealed outright or whether notice would have to first be given that reconsideration of the action would be sought . While emphasizing that technical details were not fully worked out , Pelham said his resolution would seek to set aside the privilege resolution which the House voted through 87-31 . A similar resolution passed in the Senate by a vote of 29-5 . As of Sunday night , there was no word of a resolution being offered there to rescind the action . Pelham pointed out that Georgia voters last November rejected a constitutional amendment to allow legislators to vote on pay raises for future Legislature sessions . A veteran Jackson County legislator will ask the Georgia House Monday to back federal aid to education , something it has consistently opposed in the past . Rep. Mac Barber of Commerce is asking the House in a privilege resolution to `` endorse increased federal support for public education , provided that such funds be received and expended '' as state funds . Barber , who is in his 13th year as a legislator , said there `` are some members of our congressional delegation in Washington who would like to see it ( the resolution ) passed '' . But he added that none of Georgia's congressmen specifically asked him to offer the resolution . The resolution , which Barber tossed into the House hopper Friday , will be formally read Monday . It says that `` in the event Congress does provide this increase in federal funds '' , the State Board of Education should be directed to `` give priority '' to teacher pay raises . Colquitt -- After a long , hot controversy , Miller County has a new school superintendent , elected , as a policeman put it , in the `` coolest election I ever saw in this county '' . The new school superintendent is Harry Davis , a veteran agriculture teacher , who defeated Felix Bush , a school principal and chairman of the Miller County Democratic Executive Committee . Davis received 1,119 votes in Saturday's election , and Bush got 402 . Ordinary Carey Williams , armed with a pistol , stood by at the polls to insure order . `` This was the coolest , calmest election I ever saw '' , Colquitt Policeman Tom Williams said . `` Being at the polls was just like being at church . I didn't smell a drop of liquor , and we didn't have a bit of trouble '' . The campaign leading to the election was not so quiet , however . It was marked by controversy , anonymous midnight phone calls and veiled threats of violence . The former county school superintendent , George P. Callan , shot himself to death March 18 , four days after he resigned his post in a dispute with the county school board . During the election campaign , both candidates , Davis and Bush , reportedly received anonymous telephone calls . Ordinary Williams said he , too , was subjected to anonymous calls soon after he scheduled the election . Many local citizens feared that there would be irregularities at the polls , and Williams got himself a permit to carry a gun and promised an orderly election . Sheriff Felix Tabb said the ordinary apparently made good his promise . `` Everything went real smooth '' , the sheriff said . `` There wasn't a bit of trouble '' .\",\n",
       " \"Assembly session brought much good The General Assembly , which adjourns today , has performed in an atmosphere of crisis and struggle from the day it convened . It was faced immediately with a showdown on the schools , an issue which was met squarely in conjunction with the governor with a decision not to risk abandoning public education . There followed the historic appropriations and budget fight , in which the General Assembly decided to tackle executive powers . The final decision went to the executive but a way has been opened for strengthening budgeting procedures and to provide legislators information they need . Long-range planning of programs and ways to finance them have become musts if the state in the next few years is to avoid crisis-to-crisis government . This session , for instance , may have insured a financial crisis two years from now . In all the turmoil , some good legislation was passed . Some other good bills were lost in the shuffle and await future action . Certainly all can applaud passage of an auto title law , the school bills , the increase in teacher pensions , the ban on drag racing , acceptance by the state of responsibility for maintenance of state roads in municipalities at the same rate as outside city limits , repeal of the college age limit law and the road maintenance bond issue . No action has been taken , however , on such major problems as ending the fee system , penal reform , modification of the county unit system and in outright banning of fireworks sales . Only a token start was made in attacking the tax reappraisal question and its companion issue of attracting industry to the state . The legislature expended most of its time on the schools and appropriations questions . Fortunately it spared us from the usual spate of silly resolutions which in the past have made Georgia look like anything but `` the empire state of the South '' . We congratulate the entire membership on its record of good legislation . In the interim between now and next year , we trust the House and Senate will put their minds to studying Georgia's very real economic , fiscal and social problems and come up with answers without all the political heroics . League regularly stands on the side of right The League of Women Voters , 40 now and admitting it proudly , is inviting financial contributions in the windup of its fund drive . It's a good use of money . These women whose organization grew out of the old suffrage movement are dedicated to Thomas Jefferson's dictum that one must cherish the people's spirit but `` Keep alive their attention '' . `` If once they become inattentive to the public affairs '' , Jefferson said , `` you and I , and Congress and assemblies , judges and governors , shall all become wolves '' . Newspapermen and politicians especially are aware of the penetrating attention and expert analysis the league gives to public affairs . The league workers search out the pros and cons of the most complex issues and make them available to the public . The harder the choice , the more willing the league is to wade in . And the league takes a stand , with great regularity , on the side of right . Look to Coosa Valley for industrial progress Cities and counties interested in industrial development would do well in the months ahead to keep their eyes peeled toward the 13 northwest Georgia counties that are members of the Coosa Valley Area Planning and Development Commission . Coupling its own budget of $83,750 with a $30,000 state grant authorized by Gov. Vandiver , the group expects to sign a contract in March with Georgia Tech. . Then a full-time planning office will be established in Rome to work with a five-member Georgia Tech research staff for development of an area planning and industrial development program . The undertaking has abundant promise . It recognizes the fact that what helps one county helps its neighbors and that by banding together in an area-wide effort better results can be accomplished than through the go-it-alone approach . Rusk idea strengthens United States defense The Rusk belief in balanced defense , replacing the Dulles theory of massive retaliation , removes a grave danger that has existed . The danger lay not in believing that our own A-bombs would deter Russia's use of hers ; ; that theory was and is sound . The danger lay in the American delusion that nuclear deterrence was enough . By limiting American strength too much to nuclear strength , this country limited its ability to fight any kind of war besides a nuclear war . This strategy heightened the possibility that we would have a nuclear war . It also weakened our diplomatic stance , because Russia could easily guess we did not desire a nuclear war except in the ultimate extremity . This left the Soviets plenty of leeway to start low-grade brushfire aggressions with considerable impunity . By maintaining the nuclear deterrent , but gearing American military forces to fight conventional wars too , Secretary of State Rusk junks bluff and nuclear brinkmanship and builds more muscle and greater safety into our military position . DeKalb budget shows county is on beam DeKalb's budget for 1961 is a record one and carries with it the promise of no tax increase to make it balance . It includes a raise in the county minimum wage , creation of several new jobs at the executive level , financing of beefed-up industrial development efforts , and increased expenditures for essential services such as health and welfare , fire protection , sanitation and road maintenance . That such expansion can be obtained without a raise in taxes is due to growth of the tax digest and sound fiscal planning on the part of the board of commissioners , headed by Chairman Charles O. Emmerich who is demonstrating that the public trust he was given was well placed , and other county officials . Somewhere , somebody is bound to love us G. Mennen Williams is learning the difficulties of diplomacy rapidly . Touring Africa , the new U.S. Assistant Secretary of State observed `` Africa should be for the Africans '' and the British promptly denounced him . Then he arrived in Zanzibar and found Africans carrying signs saying `` American imperialists , go home '' . Chin up , Soapy . Power company backs confidence with dollars Confidence in the state's economic future is reflected in the Georgia Power Company's record construction budget for this year . The firm does a large amount of research and its forecasts have meaning . It is good to know that Georgia will continue to have sufficient electrical power not only to meet the demands of normal growth but to encourage a more rapid rate of industrialization . Georgia's mental health program received a badly needed boost from the General Assembly in the form of a $1,750,000 budget increase for the Milledgeville State Hospital . Actually it amounts to $1,250,000 above what the institution already is receiving , considering the additional half-million dollars Gov. Vandiver allocated last year from the state surplus . Either way it sounds like a sizable hunk of money and is . But exactly how far it will go toward improving conditions is another question because there is so much that needs doing . The practice of charging employes for meals whether they eat at the hospital or not should be abolished . The work week of attendants who are on duty 65 hours and more per week should be reduced . More attendants , nurses and doctors should be hired . Patients deserve more attention than they are getting . Even with the increase in funds for the next fiscal year , Georgia will be spending only around $3.15 per day per patient . The national average is more than $4 and that figure is considered by experts in the mental health field to be too low . Kansas , regarded as tops in the nation in its treatment of the mentally ill , spends $9 per day per patient . Georgia has made some reforms , true . The intensive treatment program is working well . But in so many other areas we still are dragging . Considering what is being done compared to what needs to be done , it behooves the hospital management to do some mighty careful planning toward making the best possible use of the increase granted . The boost is helpful but inadequate . The end of Trujillo Assassination , even of a tyrant , is repulsive to men of good conscience . Rafael Trujillo , the often blood-thirsty dictator of the Dominican Republic for 31 years , perhaps deserved his fate in an even-handed appraisal of history . But whether the murder of El Benefactor in Ciudad Trujillo means freedom for the people of the Caribbean fiefdom is a question that cannot now be answered . Trujillo knew a great deal about assassination . The responsibility for scores of deaths , including the abduction and murder of Jesus Maria Galindez , a professor at Columbia University in New York , has been laid at his door . He had been involved in countless schemes to do away with democratic leaders in neighboring countries such as President Romulo Betancourt of Venezuela . It was a sort of poetic justice that at the time of his own demise a new plot to overthrow the Venezuelan government , reportedly involving the use of Dominican arms by former Venezuelan Dictator Marcos Perez Jimenez , has been uncovered and quashed . The recent history of the Dominican Republic is an almost classical study of the way in which even a professedly benevolent dictatorship tends to become oppressive . Unquestionably Trujillo did some good things for his country : he improved public facilities such as roads and sanitation , attracted industry and investment and raised the standard of living notably . But the price was the silence of the grave for all criticism or opposition . El Benefactor's vanity grew with his personal wealth . The jails were filled to overflowing with political prisoners who had incurred his displeasure . He maintained amply financed lobbies in the United States and elsewhere which sycophantically chanted his praise , and his influence extended even to Congress . Until the last year or so the profession of friendship with the United States had been an article of faith with Trujillo , and altogether too often this profession was accepted here as evidence of his good character . Tardily the Government here came to understand how this country's own reputation was tarnished by the association with repression . Last year , after Trujillo had been cited for numerous aggressions in the Caribbean , the United States and many other members of the Organization of American States broke diplomatic relations with him . Thereupon followed a demonstration that tyranny knows no ideological confines . Trujillo's dictatorship had been along conservative , right-wing lines . But after the censure he and his propaganda started mouthing Communist slogans . There was considerable evidence of a tacit rapprochement with Castro in Cuba , previously a bete noire to Trujillo -- thus illustrating the way in which totalitarianism of the right and left coalesces . What comes after Trujillo is now the puzzle . The Dominican people have known no democratic institutions and precious little freedom for a generation , and all alternative leadership has been suppressed . Perhaps the army will be able to maintain stability , but the vacuum of free institutions creates a great danger . The Dominican Republic could turn toward Communist-type authoritarianism as easily as toward Western freedom . Such a twist would be a tragedy for the Dominican people , who deserve to breathe without fear . For that reason any democratic reform and effort to bring genuine representative government to the Dominican Republic will need the greatest sympathy and help . Start on rapid transit High-speed buses on the George Washington Memorial Parkway , operating between downtown Washington and Cabin John , Glen Echo and Brookmont , would constitute an alluring sample of what the new National Capital Transportation Agency can do for this city . In presenting plans for such express buses before the Montgomery County Council , the administrator of the NCTA , C. Darwin Stolzenbach , was frankly seeking support for the projects his agency will soon be launching . Such support should not be difficult to come by if all the plans to be presented by the NCTA are as attractive as this outline of express buses coming into the downtown area . Because the buses would not stop on the parkway , land for bus stations and for parking areas nearby will be needed . The NCTA is well advised to seek funds for this purpose from the present session of Congress .\"]"
      ]
     },
     "execution_count": 12,
     "metadata": {},
     "output_type": "execute_result"
    }
   ],
   "source": [
    "test_texts"
   ]
  },
  {
   "cell_type": "markdown",
   "metadata": {
    "colab_type": "text",
    "id": "wNQXPkcB2C3V"
   },
   "source": [
    "# Cleaning data"
   ]
  },
  {
   "cell_type": "code",
   "execution_count": 13,
   "metadata": {
    "colab": {},
    "colab_type": "code",
    "id": "M2iBGPT3b-dj"
   },
   "outputs": [],
   "source": [
    "clean_train = [text.lower().translate(str.maketrans('', '', string.punctuation)).split() for text in train_texts]\n",
    "clean_test = [text.lower().translate(str.maketrans('', '', string.punctuation)).split() for text in test_texts]"
   ]
  },
  {
   "cell_type": "markdown",
   "metadata": {
    "colab_type": "text",
    "id": "wEri3o8IPVnd"
   },
   "source": [
    "We can also remove stopwords to make the data cleaner, if we want."
   ]
  },
  {
   "cell_type": "code",
   "execution_count": 14,
   "metadata": {
    "colab": {},
    "colab_type": "code",
    "id": "clbKPh1wcWVl"
   },
   "outputs": [],
   "source": [
    "tagged_data = [TaggedDocument(txt, [id_]) for txt, id_ in zip(clean_train, train_ids)]"
   ]
  },
  {
   "cell_type": "markdown",
   "metadata": {
    "colab_type": "text",
    "id": "Od7xTIka2Hl6"
   },
   "source": [
    "# Training Doc2Vec model"
   ]
  },
  {
   "cell_type": "code",
   "execution_count": 16,
   "metadata": {
    "colab": {
     "base_uri": "https://localhost:8080/",
     "height": 1000
    },
    "colab_type": "code",
    "id": "_MdHi6aDoZOh",
    "outputId": "a773051a-8275-48d3-f0f8-214e0a084b49"
   },
   "outputs": [
    {
     "name": "stdout",
     "output_type": "stream",
     "text": [
      "iteration 0\n",
      "iteration 1\n",
      "iteration 2\n",
      "iteration 3\n",
      "iteration 4\n",
      "iteration 5\n",
      "iteration 6\n",
      "iteration 7\n",
      "iteration 8\n",
      "iteration 9\n",
      "iteration 10\n",
      "iteration 11\n",
      "iteration 12\n",
      "iteration 13\n",
      "iteration 14\n",
      "iteration 15\n",
      "iteration 16\n",
      "iteration 17\n",
      "iteration 18\n",
      "iteration 19\n",
      "iteration 20\n",
      "iteration 21\n",
      "iteration 22\n",
      "iteration 23\n",
      "iteration 24\n",
      "iteration 25\n",
      "iteration 26\n",
      "iteration 27\n",
      "iteration 28\n",
      "iteration 29\n",
      "iteration 30\n",
      "iteration 31\n",
      "iteration 32\n",
      "iteration 33\n",
      "iteration 34\n",
      "iteration 35\n",
      "iteration 36\n",
      "iteration 37\n",
      "iteration 38\n",
      "iteration 39\n",
      "iteration 40\n",
      "iteration 41\n",
      "iteration 42\n",
      "iteration 43\n",
      "iteration 44\n",
      "iteration 45\n",
      "iteration 46\n",
      "iteration 47\n",
      "iteration 48\n",
      "iteration 49\n",
      "iteration 50\n",
      "iteration 51\n",
      "iteration 52\n",
      "iteration 53\n",
      "iteration 54\n",
      "iteration 55\n",
      "iteration 56\n",
      "iteration 57\n",
      "iteration 58\n",
      "iteration 59\n",
      "iteration 60\n",
      "iteration 61\n",
      "iteration 62\n",
      "iteration 63\n",
      "iteration 64\n",
      "iteration 65\n",
      "iteration 66\n",
      "iteration 67\n",
      "iteration 68\n",
      "iteration 69\n",
      "iteration 70\n",
      "iteration 71\n",
      "iteration 72\n",
      "iteration 73\n",
      "iteration 74\n",
      "iteration 75\n",
      "iteration 76\n",
      "iteration 77\n",
      "iteration 78\n",
      "iteration 79\n",
      "iteration 80\n",
      "iteration 81\n",
      "iteration 82\n",
      "iteration 83\n",
      "iteration 84\n",
      "iteration 85\n",
      "iteration 86\n",
      "iteration 87\n",
      "iteration 88\n",
      "iteration 89\n",
      "iteration 90\n",
      "iteration 91\n",
      "iteration 92\n",
      "iteration 93\n",
      "iteration 94\n",
      "iteration 95\n",
      "iteration 96\n",
      "iteration 97\n",
      "iteration 98\n",
      "iteration 99\n"
     ]
    }
   ],
   "source": [
    "max_epochs = 100\n",
    "vec_size = 30\n",
    "alpha = 0.025\n",
    "\n",
    "model = Doc2Vec(vector_size=vec_size,\n",
    "                alpha=alpha, \n",
    "                min_alpha=0.00025,\n",
    "                min_count=1,\n",
    "                dm =1)\n",
    "  \n",
    "model.build_vocab(tagged_data)\n",
    "\n",
    "for epoch in range(max_epochs):\n",
    "    print('iteration {0}'.format(epoch))\n",
    "    model.train(tagged_data,\n",
    "                total_examples=len(train_ids),\n",
    "                epochs=model.epochs)\n",
    "    # decrease the learning rate\n",
    "    model.alpha -= 0.0002\n",
    "    # fix the learning rate, no decay\n",
    "    model.min_alpha = model.alpha\n",
    "\n",
    "#model.save(\"d2v.model\")\n",
    "#print(\"Model Saved\")"
   ]
  },
  {
   "cell_type": "markdown",
   "metadata": {
    "colab_type": "text",
    "id": "fFz2E_pJ2LGy"
   },
   "source": [
    "# Testing Doc2Vec model"
   ]
  },
  {
   "cell_type": "markdown",
   "metadata": {
    "colab_type": "text",
    "id": "fnUDGG483s38"
   },
   "source": [
    "## Infer vectors for new texts"
   ]
  },
  {
   "cell_type": "code",
   "execution_count": 17,
   "metadata": {
    "colab": {
     "base_uri": "https://localhost:8080/",
     "height": 146
    },
    "colab_type": "code",
    "id": "UEFqE3o_ltnk",
    "outputId": "e2750962-11dc-4146-ea51-cee6ce2a6545"
   },
   "outputs": [
    {
     "data": {
      "text/plain": [
       "array([-7.77396023e-01, -6.91408575e-01,  2.07484156e-01, -1.09965995e-01,\n",
       "        1.23975527e+00,  5.80110431e-01, -2.39451766e+00, -4.40256238e-01,\n",
       "        7.96346962e-01, -8.74117553e-01,  3.14097494e-01,  4.32023406e-01,\n",
       "       -1.38902009e+00,  2.18460679e+00, -1.26116961e-01, -7.69089609e-02,\n",
       "       -1.01157153e+00, -2.19358826e+00,  1.74588633e+00,  2.93224311e+00,\n",
       "        1.73952746e+00, -8.06907356e-01, -7.47252047e-01,  9.59664524e-01,\n",
       "       -2.34878715e-02,  1.89490998e+00,  1.13417697e+00, -3.54520583e+00,\n",
       "       -3.34041985e-03, -9.31795299e-01], dtype=float32)"
      ]
     },
     "execution_count": 17,
     "metadata": {},
     "output_type": "execute_result"
    }
   ],
   "source": [
    "CV_test_vector = model.infer_vector(clean_test[0])\n",
    "CV_test_vector"
   ]
  },
  {
   "cell_type": "code",
   "execution_count": 18,
   "metadata": {
    "colab": {
     "base_uri": "https://localhost:8080/",
     "height": 146
    },
    "colab_type": "code",
    "id": "ARXuzMTy3ufA",
    "outputId": "e1cc7583-59e8-4d7a-b18a-46d706632c17"
   },
   "outputs": [
    {
     "data": {
      "text/plain": [
       "array([ 1.1634356 , -0.7122881 ,  0.4318654 ,  0.9812417 ,  1.6839886 ,\n",
       "        2.1082761 , -1.6948245 ,  0.07221095, -0.7551077 ,  1.0762558 ,\n",
       "        0.64251226,  0.23877004, -0.10593203,  1.2302943 ,  0.8427754 ,\n",
       "        0.49554455,  0.7150757 , -1.489252  ,  1.698507  ,  2.5884194 ,\n",
       "        1.8236828 ,  0.15556833, -0.72249025, -0.17105412, -0.09659887,\n",
       "        0.40175408,  1.8451961 , -2.2682948 , -0.29935586,  0.2951496 ],\n",
       "      dtype=float32)"
      ]
     },
     "execution_count": 18,
     "metadata": {},
     "output_type": "execute_result"
    }
   ],
   "source": [
    "offer_test_vector = model.infer_vector(clean_test[1])\n",
    "offer_test_vector"
   ]
  },
  {
   "cell_type": "markdown",
   "metadata": {
    "colab_type": "text",
    "id": "_JyL2BQw4Hb8"
   },
   "source": [
    "## Get list of most similar texts used during training"
   ]
  },
  {
   "cell_type": "code",
   "execution_count": 19,
   "metadata": {
    "colab": {
     "base_uri": "https://localhost:8080/",
     "height": 259
    },
    "colab_type": "code",
    "id": "hLTvrYUv52wk",
    "outputId": "21ce1ac3-f4cd-482a-db4f-67e10a6dfe26"
   },
   "outputs": [
    {
     "data": {
      "text/plain": [
       "[('CV05', 0.7534013986587524),\n",
       " ('CV09', 0.7182325720787048),\n",
       " ('CV24', 0.7114962339401245),\n",
       " ('CV03', 0.7108877301216125),\n",
       " ('CV02', 0.6704344153404236),\n",
       " ('CV10', 0.6617944836616516),\n",
       " ('CV06', 0.654888391494751),\n",
       " ('CV19', 0.633774995803833),\n",
       " ('Job_offer04', 0.6177676320075989),\n",
       " ('CV07', 0.6164892315864563)]"
      ]
     },
     "execution_count": 19,
     "metadata": {},
     "output_type": "execute_result"
    }
   ],
   "source": [
    "model.docvecs.most_similar([CV_test_vector])"
   ]
  },
  {
   "cell_type": "code",
   "execution_count": 20,
   "metadata": {
    "colab": {
     "base_uri": "https://localhost:8080/",
     "height": 259
    },
    "colab_type": "code",
    "id": "QVmX8u-R38tt",
    "outputId": "9ef1d31b-142d-482b-a498-39dd2731222b"
   },
   "outputs": [
    {
     "data": {
      "text/plain": [
       "[('Job_offer06', 0.7539730668067932),\n",
       " ('CV06', 0.7236578464508057),\n",
       " ('Job_offer04', 0.7225611805915833),\n",
       " ('CV35', 0.7193660736083984),\n",
       " ('Job_offer05', 0.7088514566421509),\n",
       " ('CV08', 0.7063578367233276),\n",
       " ('Job_offer17', 0.7011130452156067),\n",
       " ('Job_offer02', 0.6941385269165039),\n",
       " ('Job_offer23', 0.691922664642334),\n",
       " ('CV05', 0.691892147064209)]"
      ]
     },
     "execution_count": 20,
     "metadata": {},
     "output_type": "execute_result"
    }
   ],
   "source": [
    "model.docvecs.most_similar([offer_test_vector])"
   ]
  },
  {
   "cell_type": "markdown",
   "metadata": {
    "colab_type": "text",
    "id": "PfeShlwPNdVS"
   },
   "source": [
    "Results seem good : most similar vectors to CV vector are CV vectors and vice-versa.\n",
    "\n",
    "\n",
    "Then, we can use vectors to build any kind of machine learning model, for example to predict a text's category."
   ]
  },
  {
   "cell_type": "markdown",
   "metadata": {
    "colab_type": "text",
    "id": "Kge3BDdZBUfP"
   },
   "source": [
    "# Neural Network example"
   ]
  },
  {
   "cell_type": "markdown",
   "metadata": {
    "colab_type": "text",
    "id": "PK9JSIGBFke8"
   },
   "source": [
    "Using Doc2Vec vectors to build a model that tries to predict a text's category."
   ]
  },
  {
   "cell_type": "markdown",
   "metadata": {
    "colab_type": "text",
    "id": "vCPbHLMiFhHs"
   },
   "source": [
    "## Building training and test sets"
   ]
  },
  {
   "cell_type": "code",
   "execution_count": 21,
   "metadata": {
    "colab": {},
    "colab_type": "code",
    "id": "tky6D48pCls4"
   },
   "outputs": [],
   "source": [
    "vector_list = []\n",
    "cat_list = []\n",
    "for id_ in train_ids:\n",
    "  vector_list.append(list(model.docvecs[id_]))\n",
    "  if \"CV\" in id_:\n",
    "    cat_list.append(\"CV\")\n",
    "  else:\n",
    "    cat_list.append(\"Job_offer\")\n",
    "\n",
    "vector_list = np.array(vector_list)"
   ]
  },
  {
   "cell_type": "code",
   "execution_count": 22,
   "metadata": {
    "colab": {
     "base_uri": "https://localhost:8080/",
     "height": 226
    },
    "colab_type": "code",
    "id": "7UrKQ1LTBfRG",
    "outputId": "6d5cc74e-4dd6-4880-b38d-7d1f7b3dbdee"
   },
   "outputs": [
    {
     "data": {
      "text/html": [
       "<div>\n",
       "<style scoped>\n",
       "    .dataframe tbody tr th:only-of-type {\n",
       "        vertical-align: middle;\n",
       "    }\n",
       "\n",
       "    .dataframe tbody tr th {\n",
       "        vertical-align: top;\n",
       "    }\n",
       "\n",
       "    .dataframe thead th {\n",
       "        text-align: right;\n",
       "    }\n",
       "</style>\n",
       "<table border=\"1\" class=\"dataframe\">\n",
       "  <thead>\n",
       "    <tr style=\"text-align: right;\">\n",
       "      <th></th>\n",
       "      <th>0</th>\n",
       "      <th>1</th>\n",
       "      <th>2</th>\n",
       "      <th>3</th>\n",
       "      <th>4</th>\n",
       "      <th>5</th>\n",
       "      <th>6</th>\n",
       "      <th>7</th>\n",
       "      <th>8</th>\n",
       "      <th>9</th>\n",
       "      <th>...</th>\n",
       "      <th>21</th>\n",
       "      <th>22</th>\n",
       "      <th>23</th>\n",
       "      <th>24</th>\n",
       "      <th>25</th>\n",
       "      <th>26</th>\n",
       "      <th>27</th>\n",
       "      <th>28</th>\n",
       "      <th>29</th>\n",
       "      <th>category</th>\n",
       "    </tr>\n",
       "  </thead>\n",
       "  <tbody>\n",
       "    <tr>\n",
       "      <td>18</td>\n",
       "      <td>3.138203</td>\n",
       "      <td>-0.541149</td>\n",
       "      <td>0.696394</td>\n",
       "      <td>-10.807949</td>\n",
       "      <td>-0.588833</td>\n",
       "      <td>12.004921</td>\n",
       "      <td>-2.713702</td>\n",
       "      <td>-2.469797</td>\n",
       "      <td>-1.126496</td>\n",
       "      <td>2.870621</td>\n",
       "      <td>...</td>\n",
       "      <td>0.294127</td>\n",
       "      <td>-6.566068</td>\n",
       "      <td>5.140432</td>\n",
       "      <td>-0.948015</td>\n",
       "      <td>-4.493831</td>\n",
       "      <td>2.386760</td>\n",
       "      <td>-6.616023</td>\n",
       "      <td>4.701710</td>\n",
       "      <td>-7.991816</td>\n",
       "      <td>CV</td>\n",
       "    </tr>\n",
       "    <tr>\n",
       "      <td>51</td>\n",
       "      <td>6.807542</td>\n",
       "      <td>4.909217</td>\n",
       "      <td>6.670892</td>\n",
       "      <td>-3.062028</td>\n",
       "      <td>-6.625687</td>\n",
       "      <td>3.975154</td>\n",
       "      <td>0.039509</td>\n",
       "      <td>3.564395</td>\n",
       "      <td>-5.502150</td>\n",
       "      <td>10.028783</td>\n",
       "      <td>...</td>\n",
       "      <td>-2.794688</td>\n",
       "      <td>0.103533</td>\n",
       "      <td>-8.608082</td>\n",
       "      <td>-1.170008</td>\n",
       "      <td>-2.951492</td>\n",
       "      <td>9.216962</td>\n",
       "      <td>-0.332598</td>\n",
       "      <td>9.255067</td>\n",
       "      <td>-1.529513</td>\n",
       "      <td>Job_offer</td>\n",
       "    </tr>\n",
       "    <tr>\n",
       "      <td>46</td>\n",
       "      <td>10.962099</td>\n",
       "      <td>-2.774552</td>\n",
       "      <td>-3.051184</td>\n",
       "      <td>0.401234</td>\n",
       "      <td>4.808639</td>\n",
       "      <td>6.318864</td>\n",
       "      <td>-4.160660</td>\n",
       "      <td>2.448496</td>\n",
       "      <td>1.077291</td>\n",
       "      <td>7.352852</td>\n",
       "      <td>...</td>\n",
       "      <td>1.185380</td>\n",
       "      <td>1.853764</td>\n",
       "      <td>-10.804716</td>\n",
       "      <td>2.671286</td>\n",
       "      <td>2.106773</td>\n",
       "      <td>6.155320</td>\n",
       "      <td>-5.266735</td>\n",
       "      <td>0.793064</td>\n",
       "      <td>-2.320526</td>\n",
       "      <td>Job_offer</td>\n",
       "    </tr>\n",
       "    <tr>\n",
       "      <td>50</td>\n",
       "      <td>4.135087</td>\n",
       "      <td>-0.863729</td>\n",
       "      <td>9.827925</td>\n",
       "      <td>3.886036</td>\n",
       "      <td>6.912225</td>\n",
       "      <td>2.263665</td>\n",
       "      <td>-4.982519</td>\n",
       "      <td>2.442621</td>\n",
       "      <td>-5.626452</td>\n",
       "      <td>10.074541</td>\n",
       "      <td>...</td>\n",
       "      <td>-4.029077</td>\n",
       "      <td>3.735214</td>\n",
       "      <td>1.131210</td>\n",
       "      <td>-6.996453</td>\n",
       "      <td>2.235239</td>\n",
       "      <td>-3.651743</td>\n",
       "      <td>-2.470428</td>\n",
       "      <td>9.327930</td>\n",
       "      <td>-4.466463</td>\n",
       "      <td>Job_offer</td>\n",
       "    </tr>\n",
       "    <tr>\n",
       "      <td>43</td>\n",
       "      <td>7.841818</td>\n",
       "      <td>1.469371</td>\n",
       "      <td>-3.179746</td>\n",
       "      <td>4.381052</td>\n",
       "      <td>4.498564</td>\n",
       "      <td>8.275702</td>\n",
       "      <td>-8.882046</td>\n",
       "      <td>6.928423</td>\n",
       "      <td>2.726056</td>\n",
       "      <td>2.968675</td>\n",
       "      <td>...</td>\n",
       "      <td>-2.185650</td>\n",
       "      <td>2.637648</td>\n",
       "      <td>-0.602075</td>\n",
       "      <td>-3.073181</td>\n",
       "      <td>3.157800</td>\n",
       "      <td>8.212932</td>\n",
       "      <td>-7.316852</td>\n",
       "      <td>-2.051842</td>\n",
       "      <td>0.530848</td>\n",
       "      <td>Job_offer</td>\n",
       "    </tr>\n",
       "  </tbody>\n",
       "</table>\n",
       "<p>5 rows × 31 columns</p>\n",
       "</div>"
      ],
      "text/plain": [
       "            0         1         2          3         4          5         6  \\\n",
       "18   3.138203 -0.541149  0.696394 -10.807949 -0.588833  12.004921 -2.713702   \n",
       "51   6.807542  4.909217  6.670892  -3.062028 -6.625687   3.975154  0.039509   \n",
       "46  10.962099 -2.774552 -3.051184   0.401234  4.808639   6.318864 -4.160660   \n",
       "50   4.135087 -0.863729  9.827925   3.886036  6.912225   2.263665 -4.982519   \n",
       "43   7.841818  1.469371 -3.179746   4.381052  4.498564   8.275702 -8.882046   \n",
       "\n",
       "           7         8          9  ...        21        22         23  \\\n",
       "18 -2.469797 -1.126496   2.870621  ...  0.294127 -6.566068   5.140432   \n",
       "51  3.564395 -5.502150  10.028783  ... -2.794688  0.103533  -8.608082   \n",
       "46  2.448496  1.077291   7.352852  ...  1.185380  1.853764 -10.804716   \n",
       "50  2.442621 -5.626452  10.074541  ... -4.029077  3.735214   1.131210   \n",
       "43  6.928423  2.726056   2.968675  ... -2.185650  2.637648  -0.602075   \n",
       "\n",
       "          24        25        26        27        28        29   category  \n",
       "18 -0.948015 -4.493831  2.386760 -6.616023  4.701710 -7.991816         CV  \n",
       "51 -1.170008 -2.951492  9.216962 -0.332598  9.255067 -1.529513  Job_offer  \n",
       "46  2.671286  2.106773  6.155320 -5.266735  0.793064 -2.320526  Job_offer  \n",
       "50 -6.996453  2.235239 -3.651743 -2.470428  9.327930 -4.466463  Job_offer  \n",
       "43 -3.073181  3.157800  8.212932 -7.316852 -2.051842  0.530848  Job_offer  \n",
       "\n",
       "[5 rows x 31 columns]"
      ]
     },
     "execution_count": 22,
     "metadata": {},
     "output_type": "execute_result"
    }
   ],
   "source": [
    "train_df = pd.DataFrame(data=vector_list)\n",
    "train_df[\"category\"] = cat_list\n",
    "train_df.sample(5)"
   ]
  },
  {
   "cell_type": "code",
   "execution_count": 23,
   "metadata": {
    "colab": {},
    "colab_type": "code",
    "id": "bgYP9_knDL4i"
   },
   "outputs": [],
   "source": [
    "test_vectors = []\n",
    "test_cats = []\n",
    "for index_id in range(len(test_ids)):\n",
    "  if \"CV\" in test_ids[index_id]:\n",
    "    test_cats.append(\"CV\")\n",
    "  else:\n",
    "    test_cats.append(\"Job_offer\")\n",
    "  test_vectors.append(list(model.infer_vector(clean_test[index_id])))\n",
    "\n",
    "test_vectors = np.array(test_vectors)"
   ]
  },
  {
   "cell_type": "code",
   "execution_count": 24,
   "metadata": {
    "colab": {
     "base_uri": "https://localhost:8080/",
     "height": 132
    },
    "colab_type": "code",
    "id": "D3J6jk4DDLMP",
    "outputId": "ed01b318-8e6b-4251-f9c2-458d53a1de5a"
   },
   "outputs": [
    {
     "data": {
      "text/html": [
       "<div>\n",
       "<style scoped>\n",
       "    .dataframe tbody tr th:only-of-type {\n",
       "        vertical-align: middle;\n",
       "    }\n",
       "\n",
       "    .dataframe tbody tr th {\n",
       "        vertical-align: top;\n",
       "    }\n",
       "\n",
       "    .dataframe thead th {\n",
       "        text-align: right;\n",
       "    }\n",
       "</style>\n",
       "<table border=\"1\" class=\"dataframe\">\n",
       "  <thead>\n",
       "    <tr style=\"text-align: right;\">\n",
       "      <th></th>\n",
       "      <th>0</th>\n",
       "      <th>1</th>\n",
       "      <th>2</th>\n",
       "      <th>3</th>\n",
       "      <th>4</th>\n",
       "      <th>5</th>\n",
       "      <th>6</th>\n",
       "      <th>7</th>\n",
       "      <th>8</th>\n",
       "      <th>9</th>\n",
       "      <th>...</th>\n",
       "      <th>21</th>\n",
       "      <th>22</th>\n",
       "      <th>23</th>\n",
       "      <th>24</th>\n",
       "      <th>25</th>\n",
       "      <th>26</th>\n",
       "      <th>27</th>\n",
       "      <th>28</th>\n",
       "      <th>29</th>\n",
       "      <th>category</th>\n",
       "    </tr>\n",
       "  </thead>\n",
       "  <tbody>\n",
       "    <tr>\n",
       "      <td>0</td>\n",
       "      <td>-0.603684</td>\n",
       "      <td>-0.383341</td>\n",
       "      <td>-0.249647</td>\n",
       "      <td>-0.041038</td>\n",
       "      <td>0.892709</td>\n",
       "      <td>0.832352</td>\n",
       "      <td>-2.541869</td>\n",
       "      <td>-0.308611</td>\n",
       "      <td>1.022459</td>\n",
       "      <td>-0.683965</td>\n",
       "      <td>...</td>\n",
       "      <td>-1.102526</td>\n",
       "      <td>-0.568269</td>\n",
       "      <td>0.921837</td>\n",
       "      <td>0.052086</td>\n",
       "      <td>1.499286</td>\n",
       "      <td>1.089665</td>\n",
       "      <td>-3.800399</td>\n",
       "      <td>0.303587</td>\n",
       "      <td>-0.519082</td>\n",
       "      <td>CV</td>\n",
       "    </tr>\n",
       "    <tr>\n",
       "      <td>1</td>\n",
       "      <td>1.149974</td>\n",
       "      <td>-0.721057</td>\n",
       "      <td>0.336619</td>\n",
       "      <td>0.862282</td>\n",
       "      <td>1.825481</td>\n",
       "      <td>1.928258</td>\n",
       "      <td>-1.654020</td>\n",
       "      <td>-0.109224</td>\n",
       "      <td>-0.990326</td>\n",
       "      <td>0.882104</td>\n",
       "      <td>...</td>\n",
       "      <td>0.009836</td>\n",
       "      <td>-0.810495</td>\n",
       "      <td>-0.283851</td>\n",
       "      <td>0.252269</td>\n",
       "      <td>0.679305</td>\n",
       "      <td>1.809091</td>\n",
       "      <td>-2.132018</td>\n",
       "      <td>0.069842</td>\n",
       "      <td>0.085584</td>\n",
       "      <td>Job_offer</td>\n",
       "    </tr>\n",
       "  </tbody>\n",
       "</table>\n",
       "<p>2 rows × 31 columns</p>\n",
       "</div>"
      ],
      "text/plain": [
       "          0         1         2         3         4         5         6  \\\n",
       "0 -0.603684 -0.383341 -0.249647 -0.041038  0.892709  0.832352 -2.541869   \n",
       "1  1.149974 -0.721057  0.336619  0.862282  1.825481  1.928258 -1.654020   \n",
       "\n",
       "          7         8         9  ...        21        22        23        24  \\\n",
       "0 -0.308611  1.022459 -0.683965  ... -1.102526 -0.568269  0.921837  0.052086   \n",
       "1 -0.109224 -0.990326  0.882104  ...  0.009836 -0.810495 -0.283851  0.252269   \n",
       "\n",
       "         25        26        27        28        29   category  \n",
       "0  1.499286  1.089665 -3.800399  0.303587 -0.519082         CV  \n",
       "1  0.679305  1.809091 -2.132018  0.069842  0.085584  Job_offer  \n",
       "\n",
       "[2 rows x 31 columns]"
      ]
     },
     "execution_count": 24,
     "metadata": {},
     "output_type": "execute_result"
    }
   ],
   "source": [
    "test_df = pd.DataFrame(data=test_vectors)\n",
    "test_df[\"category\"] = test_cats\n",
    "test_df"
   ]
  },
  {
   "cell_type": "markdown",
   "metadata": {
    "colab_type": "text",
    "id": "ORHiyMc-R-Gg"
   },
   "source": [
    "Encoding categories."
   ]
  },
  {
   "cell_type": "code",
   "execution_count": 25,
   "metadata": {
    "colab": {
     "base_uri": "https://localhost:8080/",
     "height": 383
    },
    "colab_type": "code",
    "id": "qN4nYFfaR8wO",
    "outputId": "cab50ec8-5dfe-4a7a-a445-9dac0cc09377"
   },
   "outputs": [
    {
     "data": {
      "text/html": [
       "<div>\n",
       "<style scoped>\n",
       "    .dataframe tbody tr th:only-of-type {\n",
       "        vertical-align: middle;\n",
       "    }\n",
       "\n",
       "    .dataframe tbody tr th {\n",
       "        vertical-align: top;\n",
       "    }\n",
       "\n",
       "    .dataframe thead th {\n",
       "        text-align: right;\n",
       "    }\n",
       "</style>\n",
       "<table border=\"1\" class=\"dataframe\">\n",
       "  <thead>\n",
       "    <tr style=\"text-align: right;\">\n",
       "      <th></th>\n",
       "      <th>0</th>\n",
       "      <th>1</th>\n",
       "      <th>2</th>\n",
       "      <th>3</th>\n",
       "      <th>4</th>\n",
       "      <th>5</th>\n",
       "      <th>6</th>\n",
       "      <th>7</th>\n",
       "      <th>8</th>\n",
       "      <th>9</th>\n",
       "      <th>...</th>\n",
       "      <th>22</th>\n",
       "      <th>23</th>\n",
       "      <th>24</th>\n",
       "      <th>25</th>\n",
       "      <th>26</th>\n",
       "      <th>27</th>\n",
       "      <th>28</th>\n",
       "      <th>29</th>\n",
       "      <th>category</th>\n",
       "      <th>target</th>\n",
       "    </tr>\n",
       "  </thead>\n",
       "  <tbody>\n",
       "    <tr>\n",
       "      <td>33</td>\n",
       "      <td>6.613285</td>\n",
       "      <td>3.612378</td>\n",
       "      <td>4.049078</td>\n",
       "      <td>2.069019</td>\n",
       "      <td>2.093721</td>\n",
       "      <td>10.623069</td>\n",
       "      <td>-8.541397</td>\n",
       "      <td>9.202985</td>\n",
       "      <td>4.795138</td>\n",
       "      <td>4.500756</td>\n",
       "      <td>...</td>\n",
       "      <td>-9.281529</td>\n",
       "      <td>-2.795832</td>\n",
       "      <td>-5.201424</td>\n",
       "      <td>-0.308404</td>\n",
       "      <td>10.073928</td>\n",
       "      <td>-6.504033</td>\n",
       "      <td>3.229707</td>\n",
       "      <td>-4.731025</td>\n",
       "      <td>CV</td>\n",
       "      <td>0</td>\n",
       "    </tr>\n",
       "    <tr>\n",
       "      <td>22</td>\n",
       "      <td>-0.635859</td>\n",
       "      <td>0.083288</td>\n",
       "      <td>4.327404</td>\n",
       "      <td>-1.786149</td>\n",
       "      <td>10.880440</td>\n",
       "      <td>7.543876</td>\n",
       "      <td>3.185126</td>\n",
       "      <td>-3.289036</td>\n",
       "      <td>3.473866</td>\n",
       "      <td>-1.104072</td>\n",
       "      <td>...</td>\n",
       "      <td>4.786245</td>\n",
       "      <td>0.944203</td>\n",
       "      <td>6.076189</td>\n",
       "      <td>3.884722</td>\n",
       "      <td>11.025219</td>\n",
       "      <td>-14.540617</td>\n",
       "      <td>2.983026</td>\n",
       "      <td>-4.316332</td>\n",
       "      <td>CV</td>\n",
       "      <td>0</td>\n",
       "    </tr>\n",
       "    <tr>\n",
       "      <td>7</td>\n",
       "      <td>0.640764</td>\n",
       "      <td>0.581950</td>\n",
       "      <td>5.304965</td>\n",
       "      <td>0.319400</td>\n",
       "      <td>6.986187</td>\n",
       "      <td>-1.307687</td>\n",
       "      <td>-10.633467</td>\n",
       "      <td>2.642465</td>\n",
       "      <td>-1.486670</td>\n",
       "      <td>2.859022</td>\n",
       "      <td>...</td>\n",
       "      <td>-6.231623</td>\n",
       "      <td>1.999513</td>\n",
       "      <td>3.369438</td>\n",
       "      <td>3.908152</td>\n",
       "      <td>3.479602</td>\n",
       "      <td>-7.127571</td>\n",
       "      <td>4.308875</td>\n",
       "      <td>-5.984736</td>\n",
       "      <td>CV</td>\n",
       "      <td>0</td>\n",
       "    </tr>\n",
       "    <tr>\n",
       "      <td>18</td>\n",
       "      <td>3.138203</td>\n",
       "      <td>-0.541149</td>\n",
       "      <td>0.696394</td>\n",
       "      <td>-10.807949</td>\n",
       "      <td>-0.588833</td>\n",
       "      <td>12.004921</td>\n",
       "      <td>-2.713702</td>\n",
       "      <td>-2.469797</td>\n",
       "      <td>-1.126496</td>\n",
       "      <td>2.870621</td>\n",
       "      <td>...</td>\n",
       "      <td>-6.566068</td>\n",
       "      <td>5.140432</td>\n",
       "      <td>-0.948015</td>\n",
       "      <td>-4.493831</td>\n",
       "      <td>2.386760</td>\n",
       "      <td>-6.616023</td>\n",
       "      <td>4.701710</td>\n",
       "      <td>-7.991816</td>\n",
       "      <td>CV</td>\n",
       "      <td>0</td>\n",
       "    </tr>\n",
       "    <tr>\n",
       "      <td>17</td>\n",
       "      <td>3.775248</td>\n",
       "      <td>1.697307</td>\n",
       "      <td>10.084623</td>\n",
       "      <td>-4.200366</td>\n",
       "      <td>3.397465</td>\n",
       "      <td>4.057940</td>\n",
       "      <td>2.401546</td>\n",
       "      <td>2.878521</td>\n",
       "      <td>-2.848174</td>\n",
       "      <td>-0.266372</td>\n",
       "      <td>...</td>\n",
       "      <td>-2.373500</td>\n",
       "      <td>1.377015</td>\n",
       "      <td>6.148943</td>\n",
       "      <td>3.128352</td>\n",
       "      <td>-1.770272</td>\n",
       "      <td>-9.593740</td>\n",
       "      <td>-0.953245</td>\n",
       "      <td>-7.650670</td>\n",
       "      <td>CV</td>\n",
       "      <td>0</td>\n",
       "    </tr>\n",
       "    <tr>\n",
       "      <td>50</td>\n",
       "      <td>4.135087</td>\n",
       "      <td>-0.863729</td>\n",
       "      <td>9.827925</td>\n",
       "      <td>3.886036</td>\n",
       "      <td>6.912225</td>\n",
       "      <td>2.263665</td>\n",
       "      <td>-4.982519</td>\n",
       "      <td>2.442621</td>\n",
       "      <td>-5.626452</td>\n",
       "      <td>10.074541</td>\n",
       "      <td>...</td>\n",
       "      <td>3.735214</td>\n",
       "      <td>1.131210</td>\n",
       "      <td>-6.996453</td>\n",
       "      <td>2.235239</td>\n",
       "      <td>-3.651743</td>\n",
       "      <td>-2.470428</td>\n",
       "      <td>9.327930</td>\n",
       "      <td>-4.466463</td>\n",
       "      <td>Job_offer</td>\n",
       "      <td>1</td>\n",
       "    </tr>\n",
       "    <tr>\n",
       "      <td>23</td>\n",
       "      <td>3.660760</td>\n",
       "      <td>-1.141844</td>\n",
       "      <td>2.633487</td>\n",
       "      <td>-1.141512</td>\n",
       "      <td>3.457108</td>\n",
       "      <td>4.308436</td>\n",
       "      <td>-3.943509</td>\n",
       "      <td>4.543617</td>\n",
       "      <td>-0.956772</td>\n",
       "      <td>-1.860703</td>\n",
       "      <td>...</td>\n",
       "      <td>-7.193702</td>\n",
       "      <td>3.530564</td>\n",
       "      <td>2.293782</td>\n",
       "      <td>-2.685656</td>\n",
       "      <td>0.850344</td>\n",
       "      <td>-4.955568</td>\n",
       "      <td>5.431263</td>\n",
       "      <td>-9.002115</td>\n",
       "      <td>CV</td>\n",
       "      <td>0</td>\n",
       "    </tr>\n",
       "    <tr>\n",
       "      <td>39</td>\n",
       "      <td>10.040529</td>\n",
       "      <td>1.032083</td>\n",
       "      <td>0.509951</td>\n",
       "      <td>4.065275</td>\n",
       "      <td>3.431462</td>\n",
       "      <td>9.981113</td>\n",
       "      <td>-9.551697</td>\n",
       "      <td>-7.485539</td>\n",
       "      <td>-3.380637</td>\n",
       "      <td>3.323160</td>\n",
       "      <td>...</td>\n",
       "      <td>-7.637249</td>\n",
       "      <td>8.545069</td>\n",
       "      <td>-8.343307</td>\n",
       "      <td>-0.409112</td>\n",
       "      <td>-1.736953</td>\n",
       "      <td>-8.235658</td>\n",
       "      <td>1.330387</td>\n",
       "      <td>-3.894331</td>\n",
       "      <td>CV</td>\n",
       "      <td>0</td>\n",
       "    </tr>\n",
       "    <tr>\n",
       "      <td>57</td>\n",
       "      <td>4.141606</td>\n",
       "      <td>-1.781642</td>\n",
       "      <td>2.287911</td>\n",
       "      <td>4.572018</td>\n",
       "      <td>-2.175000</td>\n",
       "      <td>2.047908</td>\n",
       "      <td>-2.067831</td>\n",
       "      <td>2.451328</td>\n",
       "      <td>4.117931</td>\n",
       "      <td>7.342779</td>\n",
       "      <td>...</td>\n",
       "      <td>-1.601076</td>\n",
       "      <td>6.299685</td>\n",
       "      <td>-1.529058</td>\n",
       "      <td>-2.907796</td>\n",
       "      <td>9.217918</td>\n",
       "      <td>-7.366598</td>\n",
       "      <td>2.344799</td>\n",
       "      <td>-1.566139</td>\n",
       "      <td>Job_offer</td>\n",
       "      <td>1</td>\n",
       "    </tr>\n",
       "    <tr>\n",
       "      <td>60</td>\n",
       "      <td>6.936255</td>\n",
       "      <td>-0.426671</td>\n",
       "      <td>4.315260</td>\n",
       "      <td>10.149779</td>\n",
       "      <td>9.039593</td>\n",
       "      <td>3.238352</td>\n",
       "      <td>2.126988</td>\n",
       "      <td>8.485065</td>\n",
       "      <td>-0.751949</td>\n",
       "      <td>7.222723</td>\n",
       "      <td>...</td>\n",
       "      <td>0.947635</td>\n",
       "      <td>2.836636</td>\n",
       "      <td>1.198561</td>\n",
       "      <td>-0.007870</td>\n",
       "      <td>5.176079</td>\n",
       "      <td>-11.201007</td>\n",
       "      <td>6.670067</td>\n",
       "      <td>-3.678726</td>\n",
       "      <td>Job_offer</td>\n",
       "      <td>1</td>\n",
       "    </tr>\n",
       "  </tbody>\n",
       "</table>\n",
       "<p>10 rows × 32 columns</p>\n",
       "</div>"
      ],
      "text/plain": [
       "            0         1          2          3          4          5  \\\n",
       "33   6.613285  3.612378   4.049078   2.069019   2.093721  10.623069   \n",
       "22  -0.635859  0.083288   4.327404  -1.786149  10.880440   7.543876   \n",
       "7    0.640764  0.581950   5.304965   0.319400   6.986187  -1.307687   \n",
       "18   3.138203 -0.541149   0.696394 -10.807949  -0.588833  12.004921   \n",
       "17   3.775248  1.697307  10.084623  -4.200366   3.397465   4.057940   \n",
       "50   4.135087 -0.863729   9.827925   3.886036   6.912225   2.263665   \n",
       "23   3.660760 -1.141844   2.633487  -1.141512   3.457108   4.308436   \n",
       "39  10.040529  1.032083   0.509951   4.065275   3.431462   9.981113   \n",
       "57   4.141606 -1.781642   2.287911   4.572018  -2.175000   2.047908   \n",
       "60   6.936255 -0.426671   4.315260  10.149779   9.039593   3.238352   \n",
       "\n",
       "            6         7         8          9  ...        22        23  \\\n",
       "33  -8.541397  9.202985  4.795138   4.500756  ... -9.281529 -2.795832   \n",
       "22   3.185126 -3.289036  3.473866  -1.104072  ...  4.786245  0.944203   \n",
       "7  -10.633467  2.642465 -1.486670   2.859022  ... -6.231623  1.999513   \n",
       "18  -2.713702 -2.469797 -1.126496   2.870621  ... -6.566068  5.140432   \n",
       "17   2.401546  2.878521 -2.848174  -0.266372  ... -2.373500  1.377015   \n",
       "50  -4.982519  2.442621 -5.626452  10.074541  ...  3.735214  1.131210   \n",
       "23  -3.943509  4.543617 -0.956772  -1.860703  ... -7.193702  3.530564   \n",
       "39  -9.551697 -7.485539 -3.380637   3.323160  ... -7.637249  8.545069   \n",
       "57  -2.067831  2.451328  4.117931   7.342779  ... -1.601076  6.299685   \n",
       "60   2.126988  8.485065 -0.751949   7.222723  ...  0.947635  2.836636   \n",
       "\n",
       "          24        25         26         27        28        29   category  \\\n",
       "33 -5.201424 -0.308404  10.073928  -6.504033  3.229707 -4.731025         CV   \n",
       "22  6.076189  3.884722  11.025219 -14.540617  2.983026 -4.316332         CV   \n",
       "7   3.369438  3.908152   3.479602  -7.127571  4.308875 -5.984736         CV   \n",
       "18 -0.948015 -4.493831   2.386760  -6.616023  4.701710 -7.991816         CV   \n",
       "17  6.148943  3.128352  -1.770272  -9.593740 -0.953245 -7.650670         CV   \n",
       "50 -6.996453  2.235239  -3.651743  -2.470428  9.327930 -4.466463  Job_offer   \n",
       "23  2.293782 -2.685656   0.850344  -4.955568  5.431263 -9.002115         CV   \n",
       "39 -8.343307 -0.409112  -1.736953  -8.235658  1.330387 -3.894331         CV   \n",
       "57 -1.529058 -2.907796   9.217918  -7.366598  2.344799 -1.566139  Job_offer   \n",
       "60  1.198561 -0.007870   5.176079 -11.201007  6.670067 -3.678726  Job_offer   \n",
       "\n",
       "    target  \n",
       "33       0  \n",
       "22       0  \n",
       "7        0  \n",
       "18       0  \n",
       "17       0  \n",
       "50       1  \n",
       "23       0  \n",
       "39       0  \n",
       "57       1  \n",
       "60       1  \n",
       "\n",
       "[10 rows x 32 columns]"
      ]
     },
     "execution_count": 25,
     "metadata": {},
     "output_type": "execute_result"
    }
   ],
   "source": [
    "train_df[\"target\"] = train_df[\"category\"].map({\"CV\":0,\"Job_offer\":1})\n",
    "#train_df = pd.concat([train_df,pd.get_dummies(train_df[\"category\"])], axis=1)\n",
    "\n",
    "train_df.sample(10)"
   ]
  },
  {
   "cell_type": "code",
   "execution_count": 26,
   "metadata": {
    "colab": {
     "base_uri": "https://localhost:8080/",
     "height": 132
    },
    "colab_type": "code",
    "id": "GWFLFzZWVy8a",
    "outputId": "8dfd2dfd-84bb-4404-ebcd-18065dcd5113"
   },
   "outputs": [
    {
     "data": {
      "text/html": [
       "<div>\n",
       "<style scoped>\n",
       "    .dataframe tbody tr th:only-of-type {\n",
       "        vertical-align: middle;\n",
       "    }\n",
       "\n",
       "    .dataframe tbody tr th {\n",
       "        vertical-align: top;\n",
       "    }\n",
       "\n",
       "    .dataframe thead th {\n",
       "        text-align: right;\n",
       "    }\n",
       "</style>\n",
       "<table border=\"1\" class=\"dataframe\">\n",
       "  <thead>\n",
       "    <tr style=\"text-align: right;\">\n",
       "      <th></th>\n",
       "      <th>0</th>\n",
       "      <th>1</th>\n",
       "      <th>2</th>\n",
       "      <th>3</th>\n",
       "      <th>4</th>\n",
       "      <th>5</th>\n",
       "      <th>6</th>\n",
       "      <th>7</th>\n",
       "      <th>8</th>\n",
       "      <th>9</th>\n",
       "      <th>...</th>\n",
       "      <th>22</th>\n",
       "      <th>23</th>\n",
       "      <th>24</th>\n",
       "      <th>25</th>\n",
       "      <th>26</th>\n",
       "      <th>27</th>\n",
       "      <th>28</th>\n",
       "      <th>29</th>\n",
       "      <th>category</th>\n",
       "      <th>target</th>\n",
       "    </tr>\n",
       "  </thead>\n",
       "  <tbody>\n",
       "    <tr>\n",
       "      <td>0</td>\n",
       "      <td>-0.603684</td>\n",
       "      <td>-0.383341</td>\n",
       "      <td>-0.249647</td>\n",
       "      <td>-0.041038</td>\n",
       "      <td>0.892709</td>\n",
       "      <td>0.832352</td>\n",
       "      <td>-2.541869</td>\n",
       "      <td>-0.308611</td>\n",
       "      <td>1.022459</td>\n",
       "      <td>-0.683965</td>\n",
       "      <td>...</td>\n",
       "      <td>-0.568269</td>\n",
       "      <td>0.921837</td>\n",
       "      <td>0.052086</td>\n",
       "      <td>1.499286</td>\n",
       "      <td>1.089665</td>\n",
       "      <td>-3.800399</td>\n",
       "      <td>0.303587</td>\n",
       "      <td>-0.519082</td>\n",
       "      <td>CV</td>\n",
       "      <td>0</td>\n",
       "    </tr>\n",
       "    <tr>\n",
       "      <td>1</td>\n",
       "      <td>1.149974</td>\n",
       "      <td>-0.721057</td>\n",
       "      <td>0.336619</td>\n",
       "      <td>0.862282</td>\n",
       "      <td>1.825481</td>\n",
       "      <td>1.928258</td>\n",
       "      <td>-1.654020</td>\n",
       "      <td>-0.109224</td>\n",
       "      <td>-0.990326</td>\n",
       "      <td>0.882104</td>\n",
       "      <td>...</td>\n",
       "      <td>-0.810495</td>\n",
       "      <td>-0.283851</td>\n",
       "      <td>0.252269</td>\n",
       "      <td>0.679305</td>\n",
       "      <td>1.809091</td>\n",
       "      <td>-2.132018</td>\n",
       "      <td>0.069842</td>\n",
       "      <td>0.085584</td>\n",
       "      <td>Job_offer</td>\n",
       "      <td>1</td>\n",
       "    </tr>\n",
       "  </tbody>\n",
       "</table>\n",
       "<p>2 rows × 32 columns</p>\n",
       "</div>"
      ],
      "text/plain": [
       "          0         1         2         3         4         5         6  \\\n",
       "0 -0.603684 -0.383341 -0.249647 -0.041038  0.892709  0.832352 -2.541869   \n",
       "1  1.149974 -0.721057  0.336619  0.862282  1.825481  1.928258 -1.654020   \n",
       "\n",
       "          7         8         9  ...        22        23        24        25  \\\n",
       "0 -0.308611  1.022459 -0.683965  ... -0.568269  0.921837  0.052086  1.499286   \n",
       "1 -0.109224 -0.990326  0.882104  ... -0.810495 -0.283851  0.252269  0.679305   \n",
       "\n",
       "         26        27        28        29   category  target  \n",
       "0  1.089665 -3.800399  0.303587 -0.519082         CV       0  \n",
       "1  1.809091 -2.132018  0.069842  0.085584  Job_offer       1  \n",
       "\n",
       "[2 rows x 32 columns]"
      ]
     },
     "execution_count": 26,
     "metadata": {},
     "output_type": "execute_result"
    }
   ],
   "source": [
    "test_df[\"target\"] = test_df[\"category\"].map({\"CV\":0,\"Job_offer\":1})\n",
    "test_df"
   ]
  },
  {
   "cell_type": "code",
   "execution_count": 27,
   "metadata": {
    "colab": {},
    "colab_type": "code",
    "id": "K0UeSPbk6sn4"
   },
   "outputs": [],
   "source": [
    "train_df.drop(columns=[\"category\"], inplace=True)\n",
    "test_df.drop(columns=[\"category\"], inplace=True)"
   ]
  },
  {
   "cell_type": "code",
   "execution_count": 28,
   "metadata": {
    "colab": {},
    "colab_type": "code",
    "id": "_boGnV3PTooH"
   },
   "outputs": [],
   "source": [
    "feature_columns = []\n",
    "cat_columns = []\n",
    "for col in train_df.columns:\n",
    "  if type(col) == int:\n",
    "    feature_columns.append(col)\n",
    "  else:\n",
    "    cat_columns.append(col)"
   ]
  },
  {
   "cell_type": "markdown",
   "metadata": {
    "colab_type": "text",
    "id": "RvW4qFptF3ua"
   },
   "source": [
    "## Building Neural Network architecture"
   ]
  },
  {
   "cell_type": "markdown",
   "metadata": {
    "colab_type": "text",
    "id": "jyRQZtS1fg15"
   },
   "source": [
    "Very simple model: 4 fully connected layers, with 30, 20, 20 and 1 neurons respectively.\n",
    "\n",
    "Last layer specifically has 1 neuron because we want to predict 0 if the input vector corresponds to a CV and 1 if it is a job offer. "
   ]
  },
  {
   "cell_type": "code",
   "execution_count": 29,
   "metadata": {
    "colab": {
     "base_uri": "https://localhost:8080/",
     "height": 277
    },
    "colab_type": "code",
    "id": "F90RobLqU3XO",
    "outputId": "2aa8dc98-f500-4705-ef9a-021c14d905d7"
   },
   "outputs": [
    {
     "name": "stdout",
     "output_type": "stream",
     "text": [
      "WARNING:tensorflow:From /Users/fberque/anaconda3/envs/jupyterlab-ext/lib/python3.7/site-packages/tensorflow/python/ops/nn_impl.py:180: add_dispatch_support.<locals>.wrapper (from tensorflow.python.ops.array_ops) is deprecated and will be removed in a future version.\n",
      "Instructions for updating:\n",
      "Use tf.where in 2.0, which has the same broadcast rule as np.where\n"
     ]
    }
   ],
   "source": [
    "nn_model = Sequential()\n",
    "nn_model.add(Dense(30, input_dim=vec_size, activation='relu'))\n",
    "nn_model.add(Dense(20, activation='relu'))\n",
    "nn_model.add(Dense(20, activation='relu'))\n",
    "nn_model.add(Dense(1, activation='sigmoid'))\n",
    "\n",
    "nn_model.compile(loss='binary_crossentropy', optimizer='adam', metrics=['accuracy'])"
   ]
  },
  {
   "cell_type": "code",
   "execution_count": 30,
   "metadata": {
    "colab": {
     "base_uri": "https://localhost:8080/",
     "height": 312
    },
    "colab_type": "code",
    "id": "0nAMYallbAda",
    "outputId": "c77ffd4b-13a6-4b59-963f-3cd51be1925e"
   },
   "outputs": [
    {
     "name": "stdout",
     "output_type": "stream",
     "text": [
      "Model: \"sequential_1\"\n",
      "_________________________________________________________________\n",
      "Layer (type)                 Output Shape              Param #   \n",
      "=================================================================\n",
      "dense_1 (Dense)              (None, 30)                930       \n",
      "_________________________________________________________________\n",
      "dense_2 (Dense)              (None, 20)                620       \n",
      "_________________________________________________________________\n",
      "dense_3 (Dense)              (None, 20)                420       \n",
      "_________________________________________________________________\n",
      "dense_4 (Dense)              (None, 1)                 21        \n",
      "=================================================================\n",
      "Total params: 1,991\n",
      "Trainable params: 1,991\n",
      "Non-trainable params: 0\n",
      "_________________________________________________________________\n"
     ]
    }
   ],
   "source": [
    "nn_model.summary()"
   ]
  },
  {
   "cell_type": "markdown",
   "metadata": {
    "colab_type": "text",
    "id": "oud9gSv4F89-"
   },
   "source": [
    "## Training Neural Network"
   ]
  },
  {
   "cell_type": "code",
   "execution_count": 31,
   "metadata": {
    "colab": {
     "base_uri": "https://localhost:8080/",
     "height": 91
    },
    "colab_type": "code",
    "id": "ayA1fkhlVvp1",
    "outputId": "3a7daf6d-bcdf-41bc-9757-e6bcb49f152e"
   },
   "outputs": [
    {
     "name": "stdout",
     "output_type": "stream",
     "text": [
      "X shape : (69, 30)\n",
      "Y shape : (69, 1)\n",
      "Test X shape : (2, 30)\n",
      "Test Y shape : (2, 1)\n"
     ]
    }
   ],
   "source": [
    "x = train_df[feature_columns].values\n",
    "y = train_df[cat_columns].values\n",
    "\n",
    "test_x = test_df[feature_columns].values\n",
    "test_y = test_df[cat_columns].values\n",
    "\n",
    "print(\"X shape : \" + str(x.shape))\n",
    "print(\"Y shape : \" + str(y.shape))\n",
    "print(\"Test X shape : \" + str(test_x.shape))\n",
    "print(\"Test Y shape : \" + str(test_y.shape))"
   ]
  },
  {
   "cell_type": "code",
   "execution_count": 32,
   "metadata": {
    "colab": {
     "base_uri": "https://localhost:8080/",
     "height": 1000
    },
    "colab_type": "code",
    "id": "1e3alXOeVpyH",
    "outputId": "328455dd-0ca8-42db-fbd5-095ff00a8c7b"
   },
   "outputs": [
    {
     "name": "stdout",
     "output_type": "stream",
     "text": [
      "WARNING:tensorflow:From /Users/fberque/anaconda3/envs/jupyterlab-ext/lib/python3.7/site-packages/keras/backend/tensorflow_backend.py:422: The name tf.global_variables is deprecated. Please use tf.compat.v1.global_variables instead.\n",
      "\n",
      "Train on 69 samples, validate on 2 samples\n",
      "Epoch 1/100\n",
      "69/69 [==============================] - 0s 3ms/step - loss: 3.6580 - accuracy: 0.3768 - val_loss: 0.8426 - val_accuracy: 0.5000\n",
      "Epoch 2/100\n",
      "69/69 [==============================] - 0s 202us/step - loss: 2.2615 - accuracy: 0.3768 - val_loss: 0.8144 - val_accuracy: 0.5000\n",
      "Epoch 3/100\n",
      "69/69 [==============================] - 0s 210us/step - loss: 1.4623 - accuracy: 0.3768 - val_loss: 0.7802 - val_accuracy: 0.5000\n",
      "Epoch 4/100\n",
      "69/69 [==============================] - 0s 211us/step - loss: 1.0267 - accuracy: 0.5072 - val_loss: 0.7553 - val_accuracy: 0.0000e+00\n",
      "Epoch 5/100\n",
      "69/69 [==============================] - 0s 200us/step - loss: 0.7880 - accuracy: 0.5217 - val_loss: 0.7431 - val_accuracy: 0.5000\n",
      "Epoch 6/100\n",
      "69/69 [==============================] - 0s 230us/step - loss: 0.6479 - accuracy: 0.6087 - val_loss: 0.7400 - val_accuracy: 0.5000\n",
      "Epoch 7/100\n",
      "69/69 [==============================] - 0s 204us/step - loss: 0.5684 - accuracy: 0.7246 - val_loss: 0.7444 - val_accuracy: 0.5000\n",
      "Epoch 8/100\n",
      "69/69 [==============================] - 0s 196us/step - loss: 0.5134 - accuracy: 0.7536 - val_loss: 0.7485 - val_accuracy: 0.5000\n",
      "Epoch 9/100\n",
      "69/69 [==============================] - 0s 206us/step - loss: 0.4687 - accuracy: 0.7971 - val_loss: 0.7518 - val_accuracy: 0.5000\n",
      "Epoch 10/100\n",
      "69/69 [==============================] - 0s 194us/step - loss: 0.4317 - accuracy: 0.8696 - val_loss: 0.7554 - val_accuracy: 0.5000\n",
      "Epoch 11/100\n",
      "69/69 [==============================] - 0s 194us/step - loss: 0.3954 - accuracy: 0.9130 - val_loss: 0.7588 - val_accuracy: 0.5000\n",
      "Epoch 12/100\n",
      "69/69 [==============================] - 0s 189us/step - loss: 0.3595 - accuracy: 0.9130 - val_loss: 0.7624 - val_accuracy: 0.5000\n",
      "Epoch 13/100\n",
      "69/69 [==============================] - 0s 185us/step - loss: 0.3288 - accuracy: 0.9130 - val_loss: 0.7655 - val_accuracy: 0.5000\n",
      "Epoch 14/100\n",
      "69/69 [==============================] - 0s 176us/step - loss: 0.2941 - accuracy: 0.9275 - val_loss: 0.7676 - val_accuracy: 0.5000\n",
      "Epoch 15/100\n",
      "69/69 [==============================] - 0s 173us/step - loss: 0.2641 - accuracy: 0.9420 - val_loss: 0.7695 - val_accuracy: 0.5000\n",
      "Epoch 16/100\n",
      "69/69 [==============================] - 0s 182us/step - loss: 0.2412 - accuracy: 0.9420 - val_loss: 0.7691 - val_accuracy: 0.5000\n",
      "Epoch 17/100\n",
      "69/69 [==============================] - 0s 182us/step - loss: 0.2135 - accuracy: 0.9420 - val_loss: 0.7714 - val_accuracy: 0.5000\n",
      "Epoch 18/100\n",
      "69/69 [==============================] - 0s 178us/step - loss: 0.1953 - accuracy: 0.9565 - val_loss: 0.7739 - val_accuracy: 0.5000\n",
      "Epoch 19/100\n",
      "69/69 [==============================] - 0s 179us/step - loss: 0.1757 - accuracy: 0.9565 - val_loss: 0.7766 - val_accuracy: 0.5000\n",
      "Epoch 20/100\n",
      "69/69 [==============================] - 0s 174us/step - loss: 0.1594 - accuracy: 0.9565 - val_loss: 0.7787 - val_accuracy: 0.5000\n",
      "Epoch 21/100\n",
      "69/69 [==============================] - 0s 167us/step - loss: 0.1459 - accuracy: 0.9565 - val_loss: 0.7783 - val_accuracy: 0.5000\n",
      "Epoch 22/100\n",
      "69/69 [==============================] - 0s 180us/step - loss: 0.1337 - accuracy: 0.9565 - val_loss: 0.7799 - val_accuracy: 0.5000\n",
      "Epoch 23/100\n",
      "69/69 [==============================] - 0s 175us/step - loss: 0.1232 - accuracy: 0.9710 - val_loss: 0.7790 - val_accuracy: 0.5000\n",
      "Epoch 24/100\n",
      "69/69 [==============================] - 0s 186us/step - loss: 0.1137 - accuracy: 0.9710 - val_loss: 0.7801 - val_accuracy: 0.5000\n",
      "Epoch 25/100\n",
      "69/69 [==============================] - 0s 167us/step - loss: 0.1046 - accuracy: 1.0000 - val_loss: 0.7781 - val_accuracy: 0.5000\n",
      "Epoch 26/100\n",
      "69/69 [==============================] - 0s 174us/step - loss: 0.0969 - accuracy: 1.0000 - val_loss: 0.7774 - val_accuracy: 0.5000\n",
      "Epoch 27/100\n",
      "69/69 [==============================] - 0s 179us/step - loss: 0.0893 - accuracy: 1.0000 - val_loss: 0.7784 - val_accuracy: 0.5000\n",
      "Epoch 28/100\n",
      "69/69 [==============================] - 0s 181us/step - loss: 0.0824 - accuracy: 1.0000 - val_loss: 0.7777 - val_accuracy: 0.5000\n",
      "Epoch 29/100\n",
      "69/69 [==============================] - 0s 184us/step - loss: 0.0765 - accuracy: 1.0000 - val_loss: 0.7765 - val_accuracy: 0.5000\n",
      "Epoch 30/100\n",
      "69/69 [==============================] - 0s 177us/step - loss: 0.0711 - accuracy: 1.0000 - val_loss: 0.7776 - val_accuracy: 0.5000\n",
      "Epoch 31/100\n",
      "69/69 [==============================] - 0s 180us/step - loss: 0.0662 - accuracy: 1.0000 - val_loss: 0.7768 - val_accuracy: 0.5000\n",
      "Epoch 32/100\n",
      "69/69 [==============================] - 0s 172us/step - loss: 0.0619 - accuracy: 1.0000 - val_loss: 0.7782 - val_accuracy: 0.5000\n",
      "Epoch 33/100\n",
      "69/69 [==============================] - 0s 170us/step - loss: 0.0578 - accuracy: 1.0000 - val_loss: 0.7739 - val_accuracy: 0.5000\n",
      "Epoch 34/100\n",
      "69/69 [==============================] - 0s 201us/step - loss: 0.0544 - accuracy: 1.0000 - val_loss: 0.7721 - val_accuracy: 0.5000\n",
      "Epoch 35/100\n",
      "69/69 [==============================] - 0s 183us/step - loss: 0.0510 - accuracy: 1.0000 - val_loss: 0.7697 - val_accuracy: 0.5000\n",
      "Epoch 36/100\n",
      "69/69 [==============================] - 0s 175us/step - loss: 0.0478 - accuracy: 1.0000 - val_loss: 0.7654 - val_accuracy: 0.5000\n",
      "Epoch 37/100\n",
      "69/69 [==============================] - 0s 188us/step - loss: 0.0441 - accuracy: 1.0000 - val_loss: 0.7637 - val_accuracy: 0.5000\n",
      "Epoch 38/100\n",
      "69/69 [==============================] - 0s 190us/step - loss: 0.0412 - accuracy: 1.0000 - val_loss: 0.7626 - val_accuracy: 0.5000\n",
      "Epoch 39/100\n",
      "69/69 [==============================] - 0s 168us/step - loss: 0.0386 - accuracy: 1.0000 - val_loss: 0.7616 - val_accuracy: 0.5000\n",
      "Epoch 40/100\n",
      "69/69 [==============================] - 0s 167us/step - loss: 0.0364 - accuracy: 1.0000 - val_loss: 0.7637 - val_accuracy: 0.5000\n",
      "Epoch 41/100\n",
      "69/69 [==============================] - 0s 180us/step - loss: 0.0344 - accuracy: 1.0000 - val_loss: 0.7597 - val_accuracy: 0.5000\n",
      "Epoch 42/100\n",
      "69/69 [==============================] - 0s 169us/step - loss: 0.0323 - accuracy: 1.0000 - val_loss: 0.7602 - val_accuracy: 0.5000\n",
      "Epoch 43/100\n",
      "69/69 [==============================] - 0s 182us/step - loss: 0.0304 - accuracy: 1.0000 - val_loss: 0.7588 - val_accuracy: 0.5000\n",
      "Epoch 44/100\n",
      "69/69 [==============================] - 0s 188us/step - loss: 0.0286 - accuracy: 1.0000 - val_loss: 0.7517 - val_accuracy: 0.5000\n",
      "Epoch 45/100\n",
      "69/69 [==============================] - 0s 181us/step - loss: 0.0270 - accuracy: 1.0000 - val_loss: 0.7481 - val_accuracy: 0.5000\n",
      "Epoch 46/100\n",
      "69/69 [==============================] - 0s 176us/step - loss: 0.0254 - accuracy: 1.0000 - val_loss: 0.7480 - val_accuracy: 0.5000\n",
      "Epoch 47/100\n",
      "69/69 [==============================] - 0s 183us/step - loss: 0.0241 - accuracy: 1.0000 - val_loss: 0.7477 - val_accuracy: 0.5000\n",
      "Epoch 48/100\n",
      "69/69 [==============================] - 0s 186us/step - loss: 0.0227 - accuracy: 1.0000 - val_loss: 0.7449 - val_accuracy: 0.5000\n",
      "Epoch 49/100\n",
      "69/69 [==============================] - 0s 182us/step - loss: 0.0215 - accuracy: 1.0000 - val_loss: 0.7423 - val_accuracy: 0.5000\n",
      "Epoch 50/100\n",
      "69/69 [==============================] - 0s 191us/step - loss: 0.0202 - accuracy: 1.0000 - val_loss: 0.7416 - val_accuracy: 0.5000\n",
      "Epoch 51/100\n",
      "69/69 [==============================] - 0s 191us/step - loss: 0.0194 - accuracy: 1.0000 - val_loss: 0.7348 - val_accuracy: 0.5000\n",
      "Epoch 52/100\n",
      "69/69 [==============================] - 0s 186us/step - loss: 0.0183 - accuracy: 1.0000 - val_loss: 0.7338 - val_accuracy: 0.5000\n",
      "Epoch 53/100\n",
      "69/69 [==============================] - 0s 185us/step - loss: 0.0174 - accuracy: 1.0000 - val_loss: 0.7315 - val_accuracy: 0.5000\n",
      "Epoch 54/100\n",
      "69/69 [==============================] - 0s 195us/step - loss: 0.0163 - accuracy: 1.0000 - val_loss: 0.7328 - val_accuracy: 0.5000\n",
      "Epoch 55/100\n",
      "69/69 [==============================] - 0s 189us/step - loss: 0.0153 - accuracy: 1.0000 - val_loss: 0.7298 - val_accuracy: 0.5000\n",
      "Epoch 56/100\n",
      "69/69 [==============================] - 0s 190us/step - loss: 0.0142 - accuracy: 1.0000 - val_loss: 0.7254 - val_accuracy: 0.5000\n",
      "Epoch 57/100\n",
      "69/69 [==============================] - 0s 186us/step - loss: 0.0132 - accuracy: 1.0000 - val_loss: 0.7196 - val_accuracy: 0.5000\n",
      "Epoch 58/100\n",
      "69/69 [==============================] - 0s 186us/step - loss: 0.0124 - accuracy: 1.0000 - val_loss: 0.7146 - val_accuracy: 0.5000\n",
      "Epoch 59/100\n",
      "69/69 [==============================] - 0s 194us/step - loss: 0.0116 - accuracy: 1.0000 - val_loss: 0.7116 - val_accuracy: 0.5000\n",
      "Epoch 60/100\n",
      "69/69 [==============================] - 0s 199us/step - loss: 0.0109 - accuracy: 1.0000 - val_loss: 0.7107 - val_accuracy: 0.5000\n",
      "Epoch 61/100\n",
      "69/69 [==============================] - 0s 196us/step - loss: 0.0104 - accuracy: 1.0000 - val_loss: 0.7067 - val_accuracy: 0.5000\n",
      "Epoch 62/100\n",
      "69/69 [==============================] - 0s 198us/step - loss: 0.0098 - accuracy: 1.0000 - val_loss: 0.7032 - val_accuracy: 0.5000\n",
      "Epoch 63/100\n",
      "69/69 [==============================] - 0s 195us/step - loss: 0.0093 - accuracy: 1.0000 - val_loss: 0.6992 - val_accuracy: 0.5000\n",
      "Epoch 64/100\n",
      "69/69 [==============================] - 0s 205us/step - loss: 0.0089 - accuracy: 1.0000 - val_loss: 0.6961 - val_accuracy: 0.5000\n",
      "Epoch 65/100\n",
      "69/69 [==============================] - 0s 240us/step - loss: 0.0084 - accuracy: 1.0000 - val_loss: 0.6944 - val_accuracy: 0.5000\n",
      "Epoch 66/100\n",
      "69/69 [==============================] - 0s 214us/step - loss: 0.0080 - accuracy: 1.0000 - val_loss: 0.6923 - val_accuracy: 0.5000\n",
      "Epoch 67/100\n",
      "69/69 [==============================] - 0s 193us/step - loss: 0.0077 - accuracy: 1.0000 - val_loss: 0.6891 - val_accuracy: 0.5000\n",
      "Epoch 68/100\n",
      "69/69 [==============================] - 0s 200us/step - loss: 0.0074 - accuracy: 1.0000 - val_loss: 0.6888 - val_accuracy: 0.5000\n",
      "Epoch 69/100\n",
      "69/69 [==============================] - 0s 199us/step - loss: 0.0071 - accuracy: 1.0000 - val_loss: 0.6864 - val_accuracy: 0.5000\n",
      "Epoch 70/100\n",
      "69/69 [==============================] - 0s 190us/step - loss: 0.0068 - accuracy: 1.0000 - val_loss: 0.6810 - val_accuracy: 0.5000\n",
      "Epoch 71/100\n",
      "69/69 [==============================] - 0s 219us/step - loss: 0.0065 - accuracy: 1.0000 - val_loss: 0.6791 - val_accuracy: 0.5000\n",
      "Epoch 72/100\n",
      "69/69 [==============================] - 0s 206us/step - loss: 0.0062 - accuracy: 1.0000 - val_loss: 0.6766 - val_accuracy: 0.5000\n",
      "Epoch 73/100\n",
      "69/69 [==============================] - 0s 196us/step - loss: 0.0060 - accuracy: 1.0000 - val_loss: 0.6749 - val_accuracy: 0.5000\n",
      "Epoch 74/100\n",
      "69/69 [==============================] - 0s 206us/step - loss: 0.0057 - accuracy: 1.0000 - val_loss: 0.6705 - val_accuracy: 0.5000\n",
      "Epoch 75/100\n",
      "69/69 [==============================] - 0s 212us/step - loss: 0.0055 - accuracy: 1.0000 - val_loss: 0.6682 - val_accuracy: 0.5000\n",
      "Epoch 76/100\n",
      "69/69 [==============================] - 0s 193us/step - loss: 0.0053 - accuracy: 1.0000 - val_loss: 0.6675 - val_accuracy: 0.5000\n",
      "Epoch 77/100\n",
      "69/69 [==============================] - 0s 213us/step - loss: 0.0051 - accuracy: 1.0000 - val_loss: 0.6659 - val_accuracy: 0.5000\n",
      "Epoch 78/100\n",
      "69/69 [==============================] - 0s 216us/step - loss: 0.0049 - accuracy: 1.0000 - val_loss: 0.6641 - val_accuracy: 0.5000\n",
      "Epoch 79/100\n",
      "69/69 [==============================] - 0s 195us/step - loss: 0.0047 - accuracy: 1.0000 - val_loss: 0.6624 - val_accuracy: 0.5000\n",
      "Epoch 80/100\n",
      "69/69 [==============================] - 0s 195us/step - loss: 0.0045 - accuracy: 1.0000 - val_loss: 0.6579 - val_accuracy: 0.5000\n",
      "Epoch 81/100\n",
      "69/69 [==============================] - 0s 202us/step - loss: 0.0044 - accuracy: 1.0000 - val_loss: 0.6563 - val_accuracy: 0.5000\n",
      "Epoch 82/100\n",
      "69/69 [==============================] - 0s 174us/step - loss: 0.0042 - accuracy: 1.0000 - val_loss: 0.6560 - val_accuracy: 0.5000\n",
      "Epoch 83/100\n",
      "69/69 [==============================] - 0s 204us/step - loss: 0.0041 - accuracy: 1.0000 - val_loss: 0.6554 - val_accuracy: 0.5000\n",
      "Epoch 84/100\n",
      "69/69 [==============================] - 0s 198us/step - loss: 0.0040 - accuracy: 1.0000 - val_loss: 0.6520 - val_accuracy: 0.5000\n",
      "Epoch 85/100\n",
      "69/69 [==============================] - 0s 235us/step - loss: 0.0038 - accuracy: 1.0000 - val_loss: 0.6514 - val_accuracy: 0.5000\n",
      "Epoch 86/100\n",
      "69/69 [==============================] - 0s 199us/step - loss: 0.0037 - accuracy: 1.0000 - val_loss: 0.6489 - val_accuracy: 0.5000\n",
      "Epoch 87/100\n",
      "69/69 [==============================] - 0s 198us/step - loss: 0.0036 - accuracy: 1.0000 - val_loss: 0.6471 - val_accuracy: 0.5000\n",
      "Epoch 88/100\n",
      "69/69 [==============================] - 0s 178us/step - loss: 0.0035 - accuracy: 1.0000 - val_loss: 0.6466 - val_accuracy: 0.5000\n",
      "Epoch 89/100\n",
      "69/69 [==============================] - 0s 199us/step - loss: 0.0034 - accuracy: 1.0000 - val_loss: 0.6456 - val_accuracy: 0.5000\n",
      "Epoch 90/100\n",
      "69/69 [==============================] - 0s 216us/step - loss: 0.0033 - accuracy: 1.0000 - val_loss: 0.6448 - val_accuracy: 0.5000\n",
      "Epoch 91/100\n",
      "69/69 [==============================] - 0s 186us/step - loss: 0.0032 - accuracy: 1.0000 - val_loss: 0.6427 - val_accuracy: 0.5000\n",
      "Epoch 92/100\n",
      "69/69 [==============================] - 0s 174us/step - loss: 0.0031 - accuracy: 1.0000 - val_loss: 0.6413 - val_accuracy: 0.5000\n",
      "Epoch 93/100\n",
      "69/69 [==============================] - 0s 186us/step - loss: 0.0030 - accuracy: 1.0000 - val_loss: 0.6403 - val_accuracy: 0.5000\n",
      "Epoch 94/100\n",
      "69/69 [==============================] - 0s 185us/step - loss: 0.0029 - accuracy: 1.0000 - val_loss: 0.6376 - val_accuracy: 0.5000\n",
      "Epoch 95/100\n",
      "69/69 [==============================] - 0s 202us/step - loss: 0.0028 - accuracy: 1.0000 - val_loss: 0.6373 - val_accuracy: 0.5000\n",
      "Epoch 96/100\n",
      "69/69 [==============================] - 0s 173us/step - loss: 0.0027 - accuracy: 1.0000 - val_loss: 0.6364 - val_accuracy: 0.5000\n",
      "Epoch 97/100\n",
      "69/69 [==============================] - 0s 193us/step - loss: 0.0027 - accuracy: 1.0000 - val_loss: 0.6361 - val_accuracy: 0.5000\n",
      "Epoch 98/100\n",
      "69/69 [==============================] - 0s 172us/step - loss: 0.0026 - accuracy: 1.0000 - val_loss: 0.6351 - val_accuracy: 0.5000\n",
      "Epoch 99/100\n",
      "69/69 [==============================] - 0s 163us/step - loss: 0.0025 - accuracy: 1.0000 - val_loss: 0.6337 - val_accuracy: 0.5000\n",
      "Epoch 100/100\n",
      "69/69 [==============================] - 0s 174us/step - loss: 0.0025 - accuracy: 1.0000 - val_loss: 0.6330 - val_accuracy: 0.5000\n"
     ]
    },
    {
     "data": {
      "text/plain": [
       "<keras.callbacks.callbacks.History at 0x1491e4978>"
      ]
     },
     "execution_count": 32,
     "metadata": {},
     "output_type": "execute_result"
    }
   ],
   "source": [
    "nn_model.fit(x, y, batch_size=8, epochs=100, validation_data=[test_x, test_y])"
   ]
  },
  {
   "cell_type": "markdown",
   "metadata": {
    "colab_type": "text",
    "id": "h_DF0fsF4O-t"
   },
   "source": [
    "# T-SNE / PCA visualisations"
   ]
  },
  {
   "cell_type": "markdown",
   "metadata": {
    "colab_type": "text",
    "id": "qf2km4hlK_4B"
   },
   "source": [
    "## 2D PCA"
   ]
  },
  {
   "cell_type": "code",
   "execution_count": 33,
   "metadata": {
    "colab": {},
    "colab_type": "code",
    "id": "xTBVtfLqvw69"
   },
   "outputs": [],
   "source": [
    "pca = PCA(n_components=2)\n",
    "principalComponents = pca.fit_transform(vector_list)"
   ]
  },
  {
   "cell_type": "code",
   "execution_count": 34,
   "metadata": {
    "colab": {},
    "colab_type": "code",
    "id": "ZAlCuvCcxoWK"
   },
   "outputs": [],
   "source": [
    "principalDf = pd.DataFrame()\n",
    "\n",
    "principalDf[\"file_id\"] = train_ids\n",
    "principalDf[\"category\"] = cat_list\n",
    "principalDf[\"Principal Component 1\"] = principalComponents[:,0]\n",
    "principalDf[\"Principal Component 2\"] = principalComponents[:,1]"
   ]
  },
  {
   "cell_type": "code",
   "execution_count": 35,
   "metadata": {
    "colab": {
     "base_uri": "https://localhost:8080/",
     "height": 206
    },
    "colab_type": "code",
    "id": "OGbyMAWDyuDg",
    "outputId": "4f2b41e2-3a06-4459-f25a-bada791697f1"
   },
   "outputs": [
    {
     "data": {
      "text/html": [
       "<div>\n",
       "<style scoped>\n",
       "    .dataframe tbody tr th:only-of-type {\n",
       "        vertical-align: middle;\n",
       "    }\n",
       "\n",
       "    .dataframe tbody tr th {\n",
       "        vertical-align: top;\n",
       "    }\n",
       "\n",
       "    .dataframe thead th {\n",
       "        text-align: right;\n",
       "    }\n",
       "</style>\n",
       "<table border=\"1\" class=\"dataframe\">\n",
       "  <thead>\n",
       "    <tr style=\"text-align: right;\">\n",
       "      <th></th>\n",
       "      <th>file_id</th>\n",
       "      <th>category</th>\n",
       "      <th>Principal Component 1</th>\n",
       "      <th>Principal Component 2</th>\n",
       "    </tr>\n",
       "  </thead>\n",
       "  <tbody>\n",
       "    <tr>\n",
       "      <td>0</td>\n",
       "      <td>CV02</td>\n",
       "      <td>CV</td>\n",
       "      <td>0.428336</td>\n",
       "      <td>-3.805122</td>\n",
       "    </tr>\n",
       "    <tr>\n",
       "      <td>1</td>\n",
       "      <td>CV03</td>\n",
       "      <td>CV</td>\n",
       "      <td>-8.134845</td>\n",
       "      <td>-4.224345</td>\n",
       "    </tr>\n",
       "    <tr>\n",
       "      <td>2</td>\n",
       "      <td>CV04</td>\n",
       "      <td>CV</td>\n",
       "      <td>-7.656389</td>\n",
       "      <td>-7.245429</td>\n",
       "    </tr>\n",
       "    <tr>\n",
       "      <td>3</td>\n",
       "      <td>CV05</td>\n",
       "      <td>CV</td>\n",
       "      <td>-10.517429</td>\n",
       "      <td>5.563931</td>\n",
       "    </tr>\n",
       "    <tr>\n",
       "      <td>4</td>\n",
       "      <td>CV06</td>\n",
       "      <td>CV</td>\n",
       "      <td>-6.094329</td>\n",
       "      <td>-0.048591</td>\n",
       "    </tr>\n",
       "  </tbody>\n",
       "</table>\n",
       "</div>"
      ],
      "text/plain": [
       "  file_id category  Principal Component 1  Principal Component 2\n",
       "0    CV02       CV               0.428336              -3.805122\n",
       "1    CV03       CV              -8.134845              -4.224345\n",
       "2    CV04       CV              -7.656389              -7.245429\n",
       "3    CV05       CV             -10.517429               5.563931\n",
       "4    CV06       CV              -6.094329              -0.048591"
      ]
     },
     "execution_count": 35,
     "metadata": {},
     "output_type": "execute_result"
    }
   ],
   "source": [
    "principalDf.head()"
   ]
  },
  {
   "cell_type": "code",
   "execution_count": 36,
   "metadata": {
    "colab": {
     "base_uri": "https://localhost:8080/",
     "height": 523
    },
    "colab_type": "code",
    "id": "g91lI9omy1ey",
    "outputId": "40179f29-0e65-4753-eae0-a27980553aab"
   },
   "outputs": [
    {
     "data": {
      "image/png": "[encoded data removed]",
      "text/plain": [
       "<Figure size 576x576 with 1 Axes>"
      ]
     },
     "metadata": {
      "needs_background": "light"
     },
     "output_type": "display_data"
    }
   ],
   "source": [
    "fig = plt.figure(figsize = (8,8))\n",
    "ax = fig.add_subplot(1,1,1) \n",
    "ax.set_xlabel('Principal Component 1', fontsize = 15)\n",
    "ax.set_ylabel('Principal Component 2', fontsize = 15)\n",
    "ax.set_title('2 component PCA', fontsize = 20)\n",
    "\n",
    "targets = principalDf[\"category\"].unique()\n",
    "colors = ['r', 'b']\n",
    "\n",
    "for target, color in zip(targets,colors):\n",
    "    indicesToKeep = principalDf['category'] == target\n",
    "    ax.scatter(principalDf.loc[indicesToKeep, 'Principal Component 1']\n",
    "               , principalDf.loc[indicesToKeep, 'Principal Component 2']\n",
    "               , c = color\n",
    "               , s = 50)\n",
    "ax.legend(targets)\n",
    "ax.grid()"
   ]
  },
  {
   "cell_type": "markdown",
   "metadata": {
    "colab_type": "text",
    "id": "PUqLDLYCLV2x"
   },
   "source": [
    "## 3D PCA"
   ]
  },
  {
   "cell_type": "code",
   "execution_count": 37,
   "metadata": {
    "colab": {},
    "colab_type": "code",
    "id": "Jmxfxb__1oLp"
   },
   "outputs": [],
   "source": [
    "pca3d = PCA(n_components=3)\n",
    "\n",
    "PC3d = pca3d.fit_transform(vector_list)\n",
    "\n",
    "principalDf3d = pd.DataFrame()\n",
    "\n",
    "principalDf3d[\"file_id\"] = train_ids\n",
    "principalDf3d[\"category\"] = cat_list\n",
    "principalDf3d[\"Principal Component 1\"] = PC3d[:,0]\n",
    "principalDf3d[\"Principal Component 2\"] = PC3d[:,1]\n",
    "principalDf3d[\"Principal Component 3\"] = PC3d[:,2]"
   ]
  },
  {
   "cell_type": "code",
   "execution_count": 38,
   "metadata": {
    "colab": {
     "base_uri": "https://localhost:8080/",
     "height": 466
    },
    "colab_type": "code",
    "id": "SltWY68s2gHw",
    "outputId": "f51ea05a-aeb3-4d5e-8967-58374f77df87"
   },
   "outputs": [
    {
     "data": {
      "image/png": "[encoded data removed]",
      "text/plain": [
       "<Figure size 576x576 with 1 Axes>"
      ]
     },
     "metadata": {
      "needs_background": "light"
     },
     "output_type": "display_data"
    }
   ],
   "source": [
    "fig = plt.figure(figsize = (8,8))\n",
    "ax = fig.add_subplot(1,1,1,  projection='3d') \n",
    "ax.set_xlabel('Principal Component 1', fontsize = 15)\n",
    "ax.set_ylabel('Principal Component 2', fontsize = 15)\n",
    "ax.set_zlabel('Principal Component 3', fontsize = 15)\n",
    "ax.set_title('3 component PCA', fontsize = 20)\n",
    "\n",
    "targets = principalDf3d[\"category\"].unique()\n",
    "colors = ['r', 'b']\n",
    "\n",
    "for target, color in zip(targets,colors):\n",
    "    indicesToKeep = principalDf3d['category'] == target\n",
    "    ax.scatter(principalDf3d.loc[indicesToKeep, 'Principal Component 1']\n",
    "               , principalDf3d.loc[indicesToKeep, 'Principal Component 2']\n",
    "               , principalDf3d.loc[indicesToKeep, 'Principal Component 3']\n",
    "               , c = color\n",
    "               , s = 50)\n",
    "ax.legend(targets)\n",
    "ax.grid()"
   ]
  },
  {
   "cell_type": "markdown",
   "metadata": {
    "colab_type": "text",
    "id": "15Ajn1FaLYvS"
   },
   "source": [
    "## 2D T-SNE"
   ]
  },
  {
   "cell_type": "code",
   "execution_count": 39,
   "metadata": {
    "colab": {},
    "colab_type": "code",
    "id": "MaAvD-9W22_C"
   },
   "outputs": [],
   "source": [
    "tsne = TSNE(n_components=2)\n",
    "\n",
    "tsne_values = tsne.fit_transform(vector_list)\n",
    "\n",
    "TSNEdf = pd.DataFrame()\n",
    "\n",
    "TSNEdf[\"file_id\"] = train_ids\n",
    "TSNEdf[\"category\"] = cat_list\n",
    "TSNEdf[\"TSNE Component 1\"] = tsne_values[:,0]\n",
    "TSNEdf[\"TSNE Component 2\"] = tsne_values[:,1]"
   ]
  },
  {
   "cell_type": "code",
   "execution_count": 40,
   "metadata": {
    "colab": {
     "base_uri": "https://localhost:8080/",
     "height": 523
    },
    "colab_type": "code",
    "id": "M_6__V5UMiPj",
    "outputId": "957bbab3-28d3-4e35-bb5e-ce719c0b1827"
   },
   "outputs": [
    {
     "data": {
      "image/png": "[encoded data removed]",
      "text/plain": [
       "<Figure size 576x576 with 1 Axes>"
      ]
     },
     "metadata": {
      "needs_background": "light"
     },
     "output_type": "display_data"
    }
   ],
   "source": [
    "fig = plt.figure(figsize = (8,8))\n",
    "ax = fig.add_subplot(1,1,1) \n",
    "ax.set_xlabel('TSNE Component 1', fontsize = 15)\n",
    "ax.set_ylabel('TSNE Component 2', fontsize = 15)\n",
    "ax.set_title('2 component TSNE', fontsize = 20)\n",
    "\n",
    "targets = principalDf[\"category\"].unique()\n",
    "colors = ['r', 'b']\n",
    "\n",
    "for target, color in zip(targets,colors):\n",
    "    indicesToKeep = TSNEdf['category'] == target\n",
    "    ax.scatter(TSNEdf.loc[indicesToKeep, 'TSNE Component 1']\n",
    "               , TSNEdf.loc[indicesToKeep, 'TSNE Component 2']\n",
    "               , c = color\n",
    "               , s = 50)\n",
    "    \n",
    "ax.legend(targets)\n",
    "ax.grid()"
   ]
  },
  {
   "cell_type": "markdown",
   "metadata": {
    "colab_type": "text",
    "id": "zN0vhNwVM4Po"
   },
   "source": [
    "## 3D TSNE"
   ]
  },
  {
   "cell_type": "code",
   "execution_count": 41,
   "metadata": {
    "colab": {},
    "colab_type": "code",
    "id": "E1nhldbmMuJQ"
   },
   "outputs": [],
   "source": [
    "tsne3d = TSNE(n_components=3)\n",
    "\n",
    "tsne_values3d = tsne3d.fit_transform(vector_list)\n",
    "\n",
    "TSNEdf3d = pd.DataFrame()\n",
    "\n",
    "TSNEdf3d[\"file_id\"] = train_ids\n",
    "TSNEdf3d[\"category\"] = cat_list\n",
    "TSNEdf3d[\"TSNE Component 1\"] = tsne_values3d[:,0]\n",
    "TSNEdf3d[\"TSNE Component 2\"] = tsne_values3d[:,1]\n",
    "TSNEdf3d[\"TSNE Component 3\"] = tsne_values3d[:,2]"
   ]
  },
  {
   "cell_type": "code",
   "execution_count": 42,
   "metadata": {
    "colab": {
     "base_uri": "https://localhost:8080/",
     "height": 466
    },
    "colab_type": "code",
    "id": "3FdHBgxVNoxt",
    "outputId": "6a733926-2d28-406e-9c64-c221c226f71b"
   },
   "outputs": [
    {
     "data": {
      "image/png": "[encoded data removed]",
      "text/plain": [
       "<Figure size 576x576 with 1 Axes>"
      ]
     },
     "metadata": {
      "needs_background": "light"
     },
     "output_type": "display_data"
    }
   ],
   "source": [
    "fig = plt.figure(figsize = (8,8))\n",
    "ax = fig.add_subplot(1,1,1,  projection='3d') \n",
    "ax.set_xlabel('TSNE Component 1', fontsize = 15)\n",
    "ax.set_ylabel('TSNE Component 2', fontsize = 15)\n",
    "ax.set_zlabel('TSNE Component 3', fontsize = 15)\n",
    "ax.set_title('3 component TSNE', fontsize = 20)\n",
    "\n",
    "targets = principalDf3d[\"category\"].unique()\n",
    "colors = ['r', 'b']\n",
    "\n",
    "DISPLAY_NB = 5\n",
    "targets = targets[0:DISPLAY_NB]\n",
    "colors = colors[0:DISPLAY_NB]\n",
    "\n",
    "for target, color in zip(targets,colors):\n",
    "    indicesToKeep = TSNEdf3d['category'] == target\n",
    "    ax.scatter(TSNEdf3d.loc[indicesToKeep, 'TSNE Component 1']\n",
    "               , TSNEdf3d.loc[indicesToKeep, 'TSNE Component 2']\n",
    "               , TSNEdf3d.loc[indicesToKeep, 'TSNE Component 3']\n",
    "               , c = color\n",
    "               , s = 50)\n",
    "ax.legend(targets)\n",
    "ax.grid()"
   ]
  },
  {
   "cell_type": "code",
   "execution_count": null,
   "metadata": {
    "colab": {},
    "colab_type": "code",
    "id": "AagEV1qiOMlH"
   },
   "outputs": [],
   "source": []
  },
  {
   "cell_type": "code",
   "execution_count": null,
   "metadata": {},
   "outputs": [],
   "source": []
  },
  {
   "cell_type": "code",
   "execution_count": null,
   "metadata": {},
   "outputs": [],
   "source": []
  }
 ],
 "metadata": {
  "colab": {
   "collapsed_sections": [],
   "name": "Exemple_Doc2Vec_NN_CV_Offers.ipynb",
   "provenance": []
  },
  "kernelspec": {
   "display_name": "Python 3",
   "language": "python",
   "name": "python3"
  },
  "language_info": {
   "codemirror_mode": {
    "name": "ipython",
    "version": 3
   },
   "file_extension": ".py",
   "mimetype": "text/x-python",
   "name": "python",
   "nbconvert_exporter": "python",
   "pygments_lexer": "ipython3",
   "version": "3.7.3"
  }
 },
 "nbformat": 4,
 "nbformat_minor": 4
}
